{
 "cells": [
  {
   "cell_type": "code",
   "execution_count": 20,
   "metadata": {},
   "outputs": [],
   "source": [
    "import pandas as pd\n",
    "import numpy as np\n",
    "import math\n",
    "import matplotlib.pyplot as plt\n",
    "import seaborn as sns\n",
    "from sklearn.preprocessing import StandardScaler\n",
    "import copy"
   ]
  },
  {
   "cell_type": "code",
   "execution_count": 21,
   "metadata": {},
   "outputs": [],
   "source": [
    "df = pd.read_csv('./OnlineNewsPopularity.csv')\n",
    "df = df.drop(df.columns[list(range(0,2))+list(range(4,7))+list(range(13,39))],axis = 1)\n",
    "dataset = np.array(df)"
   ]
  },
  {
   "cell_type": "markdown",
   "metadata": {},
   "source": [
    "## Data Preprocessing"
   ]
  },
  {
   "cell_type": "code",
   "execution_count": 22,
   "metadata": {},
   "outputs": [],
   "source": [
    "def augment_by_one(data):\n",
    "    ones = np.ones(data.shape[0]).reshape(-1,1)\n",
    "    augmented_data = np.hstack((ones,data))\n",
    "    return augmented_data\n",
    "def split_attribute_and_label(data):\n",
    "    x = data[:,:-1]\n",
    "    y = data[:,-1:]\n",
    "    return x,y"
   ]
  },
  {
   "cell_type": "code",
   "execution_count": 23,
   "metadata": {},
   "outputs": [
    {
     "data": {
      "text/plain": [
       "'the train size is 31715, the dev shape is 3964, and the test shape is 3965'"
      ]
     },
     "execution_count": 23,
     "metadata": {},
     "output_type": "execute_result"
    }
   ],
   "source": [
    "# shuffle the dataset\n",
    "np.random.seed(42)\n",
    "np.random.shuffle(dataset)\n",
    "train = dataset[:31715]\n",
    "dev = dataset[31715:31715+3964]\n",
    "test = dataset[31715+3964:31715+3964+3965]\n",
    "f'the train size is {train.shape[0]}, the dev shape is {dev.shape[0]}, and the test shape is {test.shape[0]}'"
   ]
  },
  {
   "cell_type": "code",
   "execution_count": 24,
   "metadata": {},
   "outputs": [],
   "source": [
    "stdScaler = StandardScaler()\n",
    "stdScaler.fit(train)\n",
    "centered_train = stdScaler.transform(train)\n",
    "centered_dev = stdScaler.transform(dev)\n",
    "centered_test = stdScaler.transform(test)\n",
    "augmented_train = augment_by_one(centered_train)\n",
    "augmented_dev = augment_by_one(centered_dev)\n",
    "augmented_test = augment_by_one(centered_test)"
   ]
  },
  {
   "cell_type": "code",
   "execution_count": 25,
   "metadata": {},
   "outputs": [],
   "source": [
    "train_x ,train_y = split_attribute_and_label(augmented_train)\n",
    "dev_x ,dev_y = split_attribute_and_label(augmented_dev)\n",
    "test_x ,test_y = split_attribute_and_label(augmented_test)"
   ]
  },
  {
   "cell_type": "code",
   "execution_count": 26,
   "metadata": {},
   "outputs": [
    {
     "data": {
      "text/plain": [
       "array([[ 1.        ,  0.76066508,  1.00690312, ..., -0.26330178,\n",
       "         0.83711369, -0.69029101],\n",
       "       [ 1.        , -0.65736617, -0.08776171, ..., -0.26330178,\n",
       "         0.83711369, -0.69029101],\n",
       "       [ 1.        , -0.65736617, -0.66716439, ..., -0.26330178,\n",
       "         0.83711369, -0.69029101],\n",
       "       ...,\n",
       "       [ 1.        , -0.65736617,  0.90855432, ..., -0.26330178,\n",
       "         0.83711369, -0.69029101],\n",
       "       [ 1.        ,  0.28798799,  3.06153769, ..., -1.76983497,\n",
       "        -0.75038339,  1.07998198],\n",
       "       [ 1.        ,  1.23334216, -0.60516189, ...,  0.39580649,\n",
       "        -0.88267481,  0.08420343]])"
      ]
     },
     "execution_count": 26,
     "metadata": {},
     "output_type": "execute_result"
    }
   ],
   "source": [
    "train_x"
   ]
  },
  {
   "cell_type": "markdown",
   "metadata": {},
   "source": [
    "## Part I: Linear Regression via QR Factorization"
   ]
  },
  {
   "cell_type": "code",
   "execution_count": 27,
   "metadata": {},
   "outputs": [],
   "source": [
    "def proj(X_i,U_j):\n",
    "    return np.dot(X_i.T,U_j)/(np.dot(U_j.T,U_j))\n",
    "def norm(X):\n",
    "    return np.sqrt(np.dot(X.T,X))\n"
   ]
  },
  {
   "cell_type": "code",
   "execution_count": 28,
   "metadata": {},
   "outputs": [],
   "source": [
    "Q = np.zeros(shape = train_x.shape)\n",
    "for i in range(train_x.shape[1]):\n",
    "    X_i = np.array(train_x[:,i],copy = True,dtype=np.float64)\n",
    "    X_i_proj = np.array(train_x[:,i],copy = True,dtype=np.float64)\n",
    "    j = 0\n",
    "    while j < i:\n",
    "        U_j = np.array(Q[:,j],copy = True)\n",
    "        X_i -= proj(X_i_proj,U_j)*U_j\n",
    "        j += 1\n",
    "    Q[:,i] = X_i"
   ]
  },
  {
   "cell_type": "code",
   "execution_count": 29,
   "metadata": {},
   "outputs": [],
   "source": [
    "R = np.eye(train_x.shape[1],dtype = np.float64)\n",
    "for i in range(train_x.shape[1]):\n",
    "    for j in range(i+1,train_x.shape[1]):\n",
    "        R[i,j] = proj(train_x[:,j],Q[:,i]).astype(np.float64)"
   ]
  },
  {
   "cell_type": "markdown",
   "metadata": {},
   "source": [
    "# Check the validity of QR decomposition by substracting the product with the training set"
   ]
  },
  {
   "cell_type": "code",
   "execution_count": 30,
   "metadata": {},
   "outputs": [
    {
     "data": {
      "text/plain": [
       "4.0265685920346395e-13"
      ]
     },
     "execution_count": 30,
     "metadata": {},
     "output_type": "execute_result"
    }
   ],
   "source": [
    "np.sum(np.dot(Q,R)-train_x)"
   ]
  },
  {
   "cell_type": "code",
   "execution_count": 31,
   "metadata": {},
   "outputs": [],
   "source": [
    "delta_inv = np.eye(train.shape[1])\n",
    "for i in range(train_x.shape[1]):\n",
    "    delta_inv[i][i] = 1/(norm(Q[:,i])**2)"
   ]
  },
  {
   "cell_type": "code",
   "execution_count": 32,
   "metadata": {},
   "outputs": [],
   "source": [
    "w = np.dot(np.dot(np.dot(np.linalg.inv(R),delta_inv),Q.T),train_y)"
   ]
  },
  {
   "cell_type": "markdown",
   "metadata": {},
   "source": [
    "# Print the weight martix"
   ]
  },
  {
   "cell_type": "code",
   "execution_count": 33,
   "metadata": {},
   "outputs": [
    {
     "data": {
      "text/plain": [
       "array([[ 3.11117068e-07],\n",
       "       [ 9.66295060e-03],\n",
       "       [ 3.64901926e-03],\n",
       "       [ 3.79142414e-02],\n",
       "       [-2.14405270e-02],\n",
       "       [ 1.35098596e-02],\n",
       "       [ 5.81755383e-03],\n",
       "       [-2.12810592e-02],\n",
       "       [ 1.76019940e-02],\n",
       "       [ 3.65084821e+09],\n",
       "       [ 3.07339877e+09],\n",
       "       [ 3.91819926e+09],\n",
       "       [ 4.09637353e+09],\n",
       "       [ 4.01558005e+09],\n",
       "       [ 4.49606771e-02],\n",
       "       [-2.69729883e-03],\n",
       "       [-1.30770837e-02],\n",
       "       [ 3.02448432e-03],\n",
       "       [-2.05323998e-02],\n",
       "       [-1.48416003e-02],\n",
       "       [ 1.29739068e-04],\n",
       "       [-7.77602841e-03],\n",
       "       [-3.71740947e-03],\n",
       "       [-1.69262828e-02],\n",
       "       [ 5.61358945e-03],\n",
       "       [-8.84668491e-03],\n",
       "       [-1.93611374e-03],\n",
       "       [ 3.74773866e-03],\n",
       "       [ 5.05737254e-03],\n",
       "       [ 1.30838954e-02]])"
      ]
     },
     "execution_count": 33,
     "metadata": {},
     "output_type": "execute_result"
    }
   ],
   "source": [
    "w"
   ]
  },
  {
   "cell_type": "code",
   "execution_count": 34,
   "metadata": {},
   "outputs": [],
   "source": [
    "def SSE(pred,y):\n",
    "    return np.sum(np.square(pred-y))\n",
    "def TSS(pred,y):\n",
    "    return np.sum(np.square(pred-y.mean()))"
   ]
  },
  {
   "cell_type": "code",
   "execution_count": 35,
   "metadata": {},
   "outputs": [],
   "source": [
    "pred_test = np.dot(test_x,w)"
   ]
  },
  {
   "cell_type": "code",
   "execution_count": 36,
   "metadata": {},
   "outputs": [
    {
     "name": "stdout",
     "output_type": "stream",
     "text": [
      "SSE is 1.92997906307328e+20\n",
      "TSS is 1.9299790630133747e+20\n"
     ]
    }
   ],
   "source": [
    "print(f'SSE is {SSE(pred_test,test_y)}')\n",
    "print(f'TSS is {TSS(pred_test,test_y)}')"
   ]
  },
  {
   "cell_type": "code",
   "execution_count": 37,
   "metadata": {},
   "outputs": [
    {
     "name": "stdout",
     "output_type": "stream",
     "text": [
      "R square is -3.1039272926861205e-11\n"
     ]
    }
   ],
   "source": [
    "R2 = (TSS(pred_test,test_y)-SSE(pred_test,test_y))/TSS(pred_test,test_y)\n",
    "print(f'R square is {R2}')"
   ]
  },
  {
   "cell_type": "markdown",
   "metadata": {},
   "source": [
    "## Part II: Linear Regression with Regularization"
   ]
  },
  {
   "cell_type": "code",
   "execution_count": 38,
   "metadata": {},
   "outputs": [
    {
     "name": "stdout",
     "output_type": "stream",
     "text": [
      "stop at epoch 4108\n",
      "the SSE is 4145.757139949182 when alpha is 0\n",
      "the R2 is -87.07597151071629 when alpha is 0\n",
      "stop at epoch 4549\n",
      "the SSE is 4146.157692073064 when alpha is 10\n",
      "the R2 is -86.95040276608322 when alpha is 10\n",
      "stop at epoch 20961\n",
      "the SSE is 4145.92249950945 when alpha is 100\n",
      "the R2 is -87.43097506176518 when alpha is 100\n",
      "stop at epoch 4808\n",
      "the SSE is 4145.330511068926 when alpha is 1000\n",
      "the R2 is -91.3528240306676 when alpha is 1000\n",
      "stop at epoch 663\n",
      "the SSE is 4144.361688342447 when alpha is 10000\n",
      "the R2 is -128.9969286547561 when alpha is 10000\n",
      "stop at epoch 90\n",
      "the SSE is 4157.51466037324 when alpha is 100000\n",
      "the R2 is -672.4812478585645 when alpha is 100000\n"
     ]
    }
   ],
   "source": [
    "sse_list = []\n",
    "for alpha in [0,10,100,1000,10000,100000]:\n",
    "    t = 0\n",
    "    eta = 1e-6\n",
    "    epsilon = 1e-5\n",
    "    w_prev = np.zeros((train_x.shape[1],1))\n",
    "    w_next = np.random.rand(train_x.shape[1],1)\n",
    "    t = 0\n",
    "    while norm(w_next-w_prev) > epsilon:\n",
    "        gradient_w = - np.dot(train_x.T, train_y) + np.dot(np.dot(train_x.T, train_x), w_next) + (alpha * w_next)\n",
    "        w_prev = copy.deepcopy(w_next)\n",
    "        w_next = w_next - eta * gradient_w\n",
    "        t+=1\n",
    "    dev_pred = np.dot(dev_x, w_next)\n",
    "    dev_sse = SSE(dev_pred,dev_y)\n",
    "    dev_tss = TSS(dev_pred,dev_y)\n",
    "    dev_r2 = (dev_tss-dev_sse)/dev_tss\n",
    "    sse_list.append(dev_sse)\n",
    "    print(f'stop at epoch {t}') \n",
    "    print(f'the SSE is {dev_sse} when alpha is {alpha}')\n",
    "    print(f'the R2 is {dev_r2} when alpha is {alpha}')"
   ]
  },
  {
   "cell_type": "markdown",
   "metadata": {},
   "source": [
    "# We find a local minimum around alpha = 10000. we then search from alpha = 7000 to alpha = 13000"
   ]
  },
  {
   "cell_type": "code",
   "execution_count": 39,
   "metadata": {},
   "outputs": [
    {
     "name": "stdout",
     "output_type": "stream",
     "text": [
      "stop at epoch 930\n",
      "the SSE is 4144.222474035609 when alpha is 7000\n",
      "the R2 is -116.40191168477372 when alpha is 7000\n",
      "stop at epoch 967\n",
      "the SSE is 4144.229650517257 when alpha is 7100\n",
      "the R2 is -116.81393223215515 when alpha is 7100\n",
      "stop at epoch 886\n",
      "the SSE is 4144.236136515439 when alpha is 7200\n",
      "the R2 is -117.2297853747514 when alpha is 7200\n",
      "stop at epoch 936\n",
      "the SSE is 4144.227934967309 when alpha is 7300\n",
      "the R2 is -117.65119609370282 when alpha is 7300\n",
      "stop at epoch 905\n",
      "the SSE is 4144.2255643410235 when alpha is 7400\n",
      "the R2 is -118.06961166565745 when alpha is 7400\n",
      "stop at epoch 896\n",
      "the SSE is 4144.231129418384 when alpha is 7500\n",
      "the R2 is -118.48505512296151 when alpha is 7500\n",
      "stop at epoch 863\n",
      "the SSE is 4144.240423460927 when alpha is 7600\n",
      "the R2 is -118.89949721512923 when alpha is 7600\n",
      "stop at epoch 858\n",
      "the SSE is 4144.239280131044 when alpha is 7700\n",
      "the R2 is -119.32243793065044 when alpha is 7700\n",
      "stop at epoch 833\n",
      "the SSE is 4144.235173176723 when alpha is 7800\n",
      "the R2 is -119.74240517558816 when alpha is 7800\n",
      "stop at epoch 873\n",
      "the SSE is 4144.241698077324 when alpha is 7900\n",
      "the R2 is -120.15851465899655 when alpha is 7900\n",
      "stop at epoch 833\n",
      "the SSE is 4144.249532460632 when alpha is 8000\n",
      "the R2 is -120.57526530567718 when alpha is 8000\n",
      "stop at epoch 824\n",
      "the SSE is 4144.255397378966 when alpha is 8100\n",
      "the R2 is -120.99279038979714 when alpha is 8100\n",
      "stop at epoch 816\n",
      "the SSE is 4144.255892922547 when alpha is 8200\n",
      "the R2 is -121.41263875581059 when alpha is 8200\n",
      "stop at epoch 765\n",
      "the SSE is 4144.25263267469 when alpha is 8300\n",
      "the R2 is -121.83714764860522 when alpha is 8300\n",
      "stop at epoch 784\n",
      "the SSE is 4144.257806447263 when alpha is 8400\n",
      "the R2 is -122.25374845483267 when alpha is 8400\n",
      "stop at epoch 837\n",
      "the SSE is 4144.268981175318 when alpha is 8500\n",
      "the R2 is -122.67197222271007 when alpha is 8500\n",
      "stop at epoch 811\n",
      "the SSE is 4144.27672436858 when alpha is 8600\n",
      "the R2 is -123.08863231601822 when alpha is 8600\n",
      "stop at epoch 779\n",
      "the SSE is 4144.27573414271 when alpha is 8700\n",
      "the R2 is -123.5119830528182 when alpha is 8700\n",
      "stop at epoch 752\n",
      "the SSE is 4144.27883166328 when alpha is 8800\n",
      "the R2 is -123.93512571031475 when alpha is 8800\n",
      "stop at epoch 810\n",
      "the SSE is 4144.2942016670495 when alpha is 8900\n",
      "the R2 is -124.35040470289725 when alpha is 8900\n",
      "stop at epoch 777\n",
      "the SSE is 4144.291747974958 when alpha is 9000\n",
      "the R2 is -124.77459381851358 when alpha is 9000\n",
      "stop at epoch 795\n",
      "the SSE is 4144.303015884601 when alpha is 9100\n",
      "the R2 is -125.19354027146865 when alpha is 9100\n",
      "stop at epoch 724\n",
      "the SSE is 4144.308105545801 when alpha is 9200\n",
      "the R2 is -125.6145122401936 when alpha is 9200\n",
      "stop at epoch 764\n",
      "the SSE is 4144.31366991185 when alpha is 9300\n",
      "the R2 is -126.03603185090014 when alpha is 9300\n",
      "stop at epoch 746\n",
      "the SSE is 4144.317325890185 when alpha is 9400\n",
      "the R2 is -126.46159381007617 when alpha is 9400\n",
      "stop at epoch 738\n",
      "the SSE is 4144.33311631256 when alpha is 9500\n",
      "the R2 is -126.87977354357606 when alpha is 9500\n",
      "stop at epoch 751\n",
      "the SSE is 4144.339505392364 when alpha is 9600\n",
      "the R2 is -127.30131118940395 when alpha is 9600\n",
      "stop at epoch 691\n",
      "the SSE is 4144.335679461893 when alpha is 9700\n",
      "the R2 is -127.72937434297485 when alpha is 9700\n",
      "stop at epoch 745\n",
      "the SSE is 4144.352668223473 when alpha is 9800\n",
      "the R2 is -128.14849180306763 when alpha is 9800\n",
      "stop at epoch 745\n",
      "the SSE is 4144.358390856982 when alpha is 9900\n",
      "the R2 is -128.57214813961681 when alpha is 9900\n",
      "stop at epoch 634\n",
      "the SSE is 4144.3530811678775 when alpha is 10000\n",
      "the R2 is -128.99875482483756 when alpha is 10000\n",
      "stop at epoch 680\n",
      "the SSE is 4144.380955490062 when alpha is 10100\n",
      "the R2 is -129.41828660471202 when alpha is 10100\n",
      "stop at epoch 704\n",
      "the SSE is 4144.381967315968 when alpha is 10200\n",
      "the R2 is -129.8449524411617 when alpha is 10200\n",
      "stop at epoch 712\n",
      "the SSE is 4144.3970104641885 when alpha is 10300\n",
      "the R2 is -130.26700714305983 when alpha is 10300\n",
      "stop at epoch 707\n",
      "the SSE is 4144.399745560614 when alpha is 10400\n",
      "the R2 is -130.6926956771826 when alpha is 10400\n",
      "stop at epoch 631\n",
      "the SSE is 4144.407032926731 when alpha is 10500\n",
      "the R2 is -131.11970521708707 when alpha is 10500\n",
      "stop at epoch 700\n",
      "the SSE is 4144.422693732631 when alpha is 10600\n",
      "the R2 is -131.54122287748487 when alpha is 10600\n",
      "stop at epoch 693\n",
      "the SSE is 4144.431913146081 when alpha is 10700\n",
      "the R2 is -131.96720265146686 when alpha is 10700\n",
      "stop at epoch 697\n",
      "the SSE is 4144.438928026748 when alpha is 10800\n",
      "the R2 is -132.39293968360155 when alpha is 10800\n",
      "stop at epoch 671\n",
      "the SSE is 4144.452135374462 when alpha is 10900\n",
      "the R2 is -132.81632747787015 when alpha is 10900\n",
      "stop at epoch 650\n",
      "the SSE is 4144.462057894098 when alpha is 11000\n",
      "the R2 is -133.24504798109058 when alpha is 11000\n",
      "stop at epoch 633\n",
      "the SSE is 4144.46808313966 when alpha is 11100\n",
      "the R2 is -133.67360542123734 when alpha is 11100\n",
      "stop at epoch 670\n",
      "the SSE is 4144.480553578745 when alpha is 11200\n",
      "the R2 is -134.09887949419186 when alpha is 11200\n",
      "stop at epoch 643\n",
      "the SSE is 4144.4944594604385 when alpha is 11300\n",
      "the R2 is -134.52594962701042 when alpha is 11300\n",
      "stop at epoch 601\n",
      "the SSE is 4144.500836485166 when alpha is 11400\n",
      "the R2 is -134.95428595274075 when alpha is 11400\n",
      "stop at epoch 625\n",
      "the SSE is 4144.510119169312 when alpha is 11500\n",
      "the R2 is -135.3822382193654 when alpha is 11500\n",
      "stop at epoch 588\n",
      "the SSE is 4144.527557974809 when alpha is 11600\n",
      "the R2 is -135.80650455027768 when alpha is 11600\n",
      "stop at epoch 608\n",
      "the SSE is 4144.5348905464925 when alpha is 11700\n",
      "the R2 is -136.23781342947407 when alpha is 11700\n",
      "stop at epoch 608\n",
      "the SSE is 4144.548778574022 when alpha is 11800\n",
      "the R2 is -136.66643376637904 when alpha is 11800\n",
      "stop at epoch 605\n",
      "the SSE is 4144.554043964648 when alpha is 11900\n",
      "the R2 is -137.098715394245 when alpha is 11900\n",
      "stop at epoch 558\n",
      "the SSE is 4144.573369784865 when alpha is 12000\n",
      "the R2 is -137.52374609699163 when alpha is 12000\n",
      "stop at epoch 583\n",
      "the SSE is 4144.577203207361 when alpha is 12100\n",
      "the R2 is -137.9573593560688 when alpha is 12100\n",
      "stop at epoch 572\n",
      "the SSE is 4144.592535876858 when alpha is 12200\n",
      "the R2 is -138.38509163856864 when alpha is 12200\n",
      "stop at epoch 541\n",
      "the SSE is 4144.601538022866 when alpha is 12300\n",
      "the R2 is -138.81886384509312 when alpha is 12300\n",
      "stop at epoch 587\n",
      "the SSE is 4144.621404904764 when alpha is 12400\n",
      "the R2 is -139.24200432529167 when alpha is 12400\n",
      "stop at epoch 588\n",
      "the SSE is 4144.631066526974 when alpha is 12500\n",
      "the R2 is -139.6776292987393 when alpha is 12500\n",
      "stop at epoch 572\n",
      "the SSE is 4144.646665093814 when alpha is 12600\n",
      "the R2 is -140.1085697955023 when alpha is 12600\n",
      "stop at epoch 561\n",
      "the SSE is 4144.651267610837 when alpha is 12700\n",
      "the R2 is -140.54431092205334 when alpha is 12700\n",
      "stop at epoch 554\n",
      "the SSE is 4144.665451670043 when alpha is 12800\n",
      "the R2 is -140.972162160478 when alpha is 12800\n",
      "stop at epoch 593\n",
      "the SSE is 4144.676955776765 when alpha is 12900\n",
      "the R2 is -141.4055402827503 when alpha is 12900\n"
     ]
    }
   ],
   "source": [
    "sse_list = []\n",
    "for alpha in range(7000,13000,100):\n",
    "    t = 0\n",
    "    eta = 1e-6\n",
    "    epsilon = 1e-5\n",
    "    w_prev = np.zeros((train_x.shape[1],1))\n",
    "    w_next = np.random.rand(train_x.shape[1],1)\n",
    "    t = 0\n",
    "    while norm(w_next-w_prev) > epsilon:\n",
    "        gradient_w = - np.dot(train_x.T, train_y) + np.dot(np.dot(train_x.T, train_x), w_next) + (alpha * w_next)\n",
    "        w_prev = copy.deepcopy(w_next)\n",
    "        w_next = w_next - eta * gradient_w\n",
    "        t+=1\n",
    "    dev_pred = np.dot(dev_x, w_next)\n",
    "    dev_sse = SSE(dev_pred,dev_y)\n",
    "    dev_tss = TSS(dev_pred,dev_y)\n",
    "    dev_r2 = (dev_tss-dev_sse)/dev_tss\n",
    "    sse_list.append(dev_sse)\n",
    "    print(f'stop at epoch {t}') \n",
    "    print(f'the SSE is {dev_sse} when alpha is {alpha}')\n",
    "    print(f'the R2 is {dev_r2} when alpha is {alpha}')"
   ]
  },
  {
   "cell_type": "code",
   "execution_count": 40,
   "metadata": {},
   "outputs": [
    {
     "data": {
      "text/plain": [
       "0"
      ]
     },
     "execution_count": 40,
     "metadata": {},
     "output_type": "execute_result"
    }
   ],
   "source": [
    "np.argmin(sse_list)"
   ]
  },
  {
   "cell_type": "markdown",
   "metadata": {},
   "source": [
    "# This result suggests best alpha Probably occur before 7000, so we try the values from 3000 to 7000"
   ]
  },
  {
   "cell_type": "code",
   "execution_count": 41,
   "metadata": {},
   "outputs": [
    {
     "name": "stdout",
     "output_type": "stream",
     "text": [
      "stop at epoch 1774\n",
      "the SSE is 4144.612572004861 when alpha is 3000\n",
      "the R2 is -99.78133368373061 when alpha is 3000\n",
      "stop at epoch 1928\n",
      "the SSE is 4144.597626303299 when alpha is 3100\n",
      "the R2 is -100.19476212686631 when alpha is 3100\n",
      "stop at epoch 1900\n",
      "the SSE is 4144.56922014117 when alpha is 3200\n",
      "the R2 is -100.61432410284802 when alpha is 3200\n",
      "stop at epoch 1711\n",
      "the SSE is 4144.539299952674 when alpha is 3300\n",
      "the R2 is -101.0348497654293 when alpha is 3300\n",
      "stop at epoch 1785\n",
      "the SSE is 4144.527937456993 when alpha is 3400\n",
      "the R2 is -101.446652058725 when alpha is 3400\n",
      "stop at epoch 1635\n",
      "the SSE is 4144.510238998453 when alpha is 3500\n",
      "the R2 is -101.86197228898347 when alpha is 3500\n",
      "stop at epoch 1740\n",
      "the SSE is 4144.493529848428 when alpha is 3600\n",
      "the R2 is -102.27712379990413 when alpha is 3600\n",
      "stop at epoch 1563\n",
      "the SSE is 4144.457922186108 when alpha is 3700\n",
      "the R2 is -102.69908242082506 when alpha is 3700\n",
      "stop at epoch 1580\n",
      "the SSE is 4144.457242468116 when alpha is 3800\n",
      "the R2 is -103.10815778276145 when alpha is 3800\n",
      "stop at epoch 1582\n",
      "the SSE is 4144.436520381717 when alpha is 3900\n",
      "the R2 is -103.52577580204687 when alpha is 3900\n",
      "stop at epoch 1567\n",
      "the SSE is 4144.421735375162 when alpha is 4000\n",
      "the R2 is -103.94076791851332 when alpha is 4000\n",
      "stop at epoch 1407\n",
      "the SSE is 4144.40744787617 when alpha is 4100\n",
      "the R2 is -104.3549192400457 when alpha is 4100\n",
      "stop at epoch 1427\n",
      "the SSE is 4144.38840386991 when alpha is 4200\n",
      "the R2 is -104.77166628762257 when alpha is 4200\n",
      "stop at epoch 1301\n",
      "the SSE is 4144.382397102873 when alpha is 4300\n",
      "the R2 is -105.18183121896958 when alpha is 4300\n",
      "stop at epoch 1457\n",
      "the SSE is 4144.365433804641 when alpha is 4400\n",
      "the R2 is -105.60117848526824 when alpha is 4400\n",
      "stop at epoch 1446\n",
      "the SSE is 4144.354556252776 when alpha is 4500\n",
      "the R2 is -106.01455381724391 when alpha is 4500\n",
      "stop at epoch 1331\n",
      "the SSE is 4144.345855281297 when alpha is 4600\n",
      "the R2 is -106.42918856546439 when alpha is 4600\n",
      "stop at epoch 1286\n",
      "the SSE is 4144.343714241055 when alpha is 4700\n",
      "the R2 is -106.83969953379413 when alpha is 4700\n",
      "stop at epoch 1315\n",
      "the SSE is 4144.317508539602 when alpha is 4800\n",
      "the R2 is -107.26154697445261 when alpha is 4800\n",
      "stop at epoch 1227\n",
      "the SSE is 4144.316827747205 when alpha is 4900\n",
      "the R2 is -107.67264186733108 when alpha is 4900\n",
      "stop at epoch 1252\n",
      "the SSE is 4144.296363053114 when alpha is 5000\n",
      "the R2 is -108.09114272682851 when alpha is 5000\n",
      "stop at epoch 1254\n",
      "the SSE is 4144.299614229305 when alpha is 5100\n",
      "the R2 is -108.5019556742119 when alpha is 5100\n",
      "stop at epoch 1251\n",
      "the SSE is 4144.289057862917 when alpha is 5200\n",
      "the R2 is -108.91655126578065 when alpha is 5200\n",
      "stop at epoch 1178\n",
      "the SSE is 4144.283724962039 when alpha is 5300\n",
      "the R2 is -109.33077221433895 when alpha is 5300\n",
      "stop at epoch 1222\n",
      "the SSE is 4144.271729780822 when alpha is 5400\n",
      "the R2 is -109.74817246499617 when alpha is 5400\n",
      "stop at epoch 1108\n",
      "the SSE is 4144.26666162985 when alpha is 5500\n",
      "the R2 is -110.16260513431648 when alpha is 5500\n",
      "stop at epoch 1148\n",
      "the SSE is 4144.26221951516 when alpha is 5600\n",
      "the R2 is -110.57784298037275 when alpha is 5600\n",
      "stop at epoch 1161\n",
      "the SSE is 4144.255790752244 when alpha is 5700\n",
      "the R2 is -110.99369469108552 when alpha is 5700\n",
      "stop at epoch 1002\n",
      "the SSE is 4144.250884446786 when alpha is 5800\n",
      "the R2 is -111.40912666431605 when alpha is 5800\n",
      "stop at epoch 1112\n",
      "the SSE is 4144.249296624717 when alpha is 5900\n",
      "the R2 is -111.8217171217008 when alpha is 5900\n",
      "stop at epoch 1129\n",
      "the SSE is 4144.246055848134 when alpha is 6000\n",
      "the R2 is -112.237409467852 when alpha is 6000\n",
      "stop at epoch 1082\n",
      "the SSE is 4144.243550535181 when alpha is 6100\n",
      "the R2 is -112.652388438207 when alpha is 6100\n",
      "stop at epoch 1038\n",
      "the SSE is 4144.23765021198 when alpha is 6200\n",
      "the R2 is -113.06895233587665 when alpha is 6200\n",
      "stop at epoch 1062\n",
      "the SSE is 4144.230444378572 when alpha is 6300\n",
      "the R2 is -113.48669033435938 when alpha is 6300\n",
      "stop at epoch 938\n",
      "the SSE is 4144.237376416998 when alpha is 6400\n",
      "the R2 is -113.89822340709682 when alpha is 6400\n",
      "stop at epoch 1035\n",
      "the SSE is 4144.235532637402 when alpha is 6500\n",
      "the R2 is -114.31439611118505 when alpha is 6500\n",
      "stop at epoch 1025\n",
      "the SSE is 4144.231004129242 when alpha is 6600\n",
      "the R2 is -114.7319265160003 when alpha is 6600\n",
      "stop at epoch 977\n",
      "the SSE is 4144.23103399652 when alpha is 6700\n",
      "the R2 is -115.14801606827304 when alpha is 6700\n",
      "stop at epoch 830\n",
      "the SSE is 4144.211996245296 when alpha is 6800\n",
      "the R2 is -115.57021421794754 when alpha is 6800\n",
      "stop at epoch 1022\n",
      "the SSE is 4144.224925924263 when alpha is 6900\n",
      "the R2 is -115.98318229350576 when alpha is 6900\n",
      "stop at epoch 937\n",
      "the SSE is 4144.229317853519 when alpha is 7000\n",
      "the R2 is -116.39774006594637 when alpha is 7000\n"
     ]
    }
   ],
   "source": [
    "sse_list = []\n",
    "for alpha in range(3000,7001,100):\n",
    "    t = 0\n",
    "    eta = 1e-6\n",
    "    epsilon = 1e-5\n",
    "    w_prev = np.zeros((train_x.shape[1],1))\n",
    "    w_next = np.random.rand(train_x.shape[1],1)\n",
    "    t = 0\n",
    "    while norm(w_next-w_prev) > epsilon:\n",
    "        gradient_w = - np.dot(train_x.T, train_y) + np.dot(np.dot(train_x.T, train_x), w_next) + (alpha * w_next)\n",
    "        w_prev = copy.deepcopy(w_next)\n",
    "        w_next = w_next - eta * gradient_w\n",
    "        t+=1\n",
    "    dev_pred = np.dot(dev_x, w_next)\n",
    "    dev_sse = SSE(dev_pred,dev_y)\n",
    "    dev_tss = TSS(dev_pred,dev_y)\n",
    "    dev_r2 = (dev_tss-dev_sse)/dev_tss\n",
    "    sse_list.append(dev_sse)\n",
    "    print(f'stop at epoch {t}') \n",
    "    print(f'the SSE is {dev_sse} when alpha is {alpha}')\n",
    "    print(f'the R2 is {dev_r2} when alpha is {alpha}')"
   ]
  },
  {
   "cell_type": "code",
   "execution_count": 42,
   "metadata": {},
   "outputs": [
    {
     "data": {
      "text/plain": [
       "38"
      ]
     },
     "execution_count": 42,
     "metadata": {},
     "output_type": "execute_result"
    }
   ],
   "source": [
    "np.argmin(sse_list)"
   ]
  },
  {
   "cell_type": "markdown",
   "metadata": {},
   "source": [
    "# The best alpha is 6800"
   ]
  },
  {
   "cell_type": "code",
   "execution_count": 45,
   "metadata": {},
   "outputs": [
    {
     "name": "stdout",
     "output_type": "stream",
     "text": [
      "stop at epoch 965\n",
      "the SSE is 1910.7299413873384 on test set when alpha is 6700\n",
      "the R2 is -51.10393011449761 on test set when alpha is 6700\n"
     ]
    }
   ],
   "source": [
    "alpha = 6700\n",
    "t = 0\n",
    "eta = 1e-6\n",
    "epsilon = 1e-5\n",
    "w_prev = np.zeros((train_x.shape[1],1))\n",
    "w_next = np.random.rand(train_x.shape[1],1)\n",
    "t = 0\n",
    "while norm(w_next-w_prev) > epsilon:\n",
    "    gradient_w = - np.dot(train_x.T, train_y) + np.dot(np.dot(train_x.T, train_x), w_next) + (alpha * w_next)\n",
    "    w_prev = copy.deepcopy(w_next)\n",
    "    w_next = w_next - eta * gradient_w\n",
    "    t+=1\n",
    "test_pred = np.dot(test_x, w_next)\n",
    "test_sse = SSE(test_pred,test_y)\n",
    "test_tss = TSS(test_pred,test_y)\n",
    "test_r2 = (test_tss-test_sse)/test_tss\n",
    "sse_list.append(test_sse)\n",
    "print(f'stop at epoch {t}') \n",
    "print(f'the SSE is {test_sse} on test set when alpha is {alpha}')\n",
    "print(f'the R2 is {test_r2} on test set when alpha is {alpha}')"
   ]
  },
  {
   "cell_type": "code",
   "execution_count": 46,
   "metadata": {},
   "outputs": [
    {
     "name": "stdout",
     "output_type": "stream",
     "text": [
      "The corresponding matrix is\n",
      "[[ 4.81085117e-18]\n",
      " [ 7.11941138e-03]\n",
      " [ 1.08348570e-03]\n",
      " [ 3.00498286e-02]\n",
      " [-1.51070902e-02]\n",
      " [ 1.39280460e-02]\n",
      " [ 6.70577385e-03]\n",
      " [-1.89487970e-02]\n",
      " [ 1.53039195e-02]\n",
      " [ 5.71954949e-03]\n",
      " [-1.15829617e-02]\n",
      " [-3.29373336e-02]\n",
      " [ 4.00424207e-02]\n",
      " [-1.98655442e-03]\n",
      " [ 2.90082861e-02]\n",
      " [-2.41320609e-04]\n",
      " [-8.06506250e-03]\n",
      " [ 5.04893677e-04]\n",
      " [-1.20180102e-02]\n",
      " [-5.62797614e-03]\n",
      " [ 8.49181162e-04]\n",
      " [-5.11850332e-03]\n",
      " [-2.51493527e-03]\n",
      " [-1.29520895e-02]\n",
      " [-1.26672962e-03]\n",
      " [-8.71200738e-03]\n",
      " [ 2.16892913e-03]\n",
      " [ 3.42211048e-03]\n",
      " [ 4.50369370e-03]\n",
      " [ 1.00597472e-02]]\n"
     ]
    }
   ],
   "source": [
    "print('The corresponding matrix is')\n",
    "print(w_next)"
   ]
  }
 ],
 "metadata": {
  "kernelspec": {
   "display_name": "Python 3.7.6 ('base')",
   "language": "python",
   "name": "python3"
  },
  "language_info": {
   "codemirror_mode": {
    "name": "ipython",
    "version": 3
   },
   "file_extension": ".py",
   "mimetype": "text/x-python",
   "name": "python",
   "nbconvert_exporter": "python",
   "pygments_lexer": "ipython3",
   "version": "3.7.6"
  },
  "orig_nbformat": 4,
  "vscode": {
   "interpreter": {
    "hash": "1583098d49b8b63b24ba78fec75676b625853923384d7c0eb5f87db36da8a08e"
   }
  }
 },
 "nbformat": 4,
 "nbformat_minor": 2
}
