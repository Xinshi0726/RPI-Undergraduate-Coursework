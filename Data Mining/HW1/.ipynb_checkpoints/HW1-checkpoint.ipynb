{
 "cells": [
  {
   "cell_type": "markdown",
   "id": "e750b3ee",
   "metadata": {},
   "source": [
    "# Homework 1"
   ]
  },
  {
   "cell_type": "markdown",
   "id": "899a58e9",
   "metadata": {},
   "source": [
    "## Import needed libraries"
   ]
  },
  {
   "cell_type": "code",
   "execution_count": 73,
   "id": "8e2e846f",
   "metadata": {},
   "outputs": [],
   "source": [
    "import pandas as pd\n",
    "import numpy as np\n",
    "import math\n",
    "import matplotlib.pyplot as plt"
   ]
  },
  {
   "cell_type": "markdown",
   "id": "eaca9248",
   "metadata": {},
   "source": [
    "## Read in the DataFrame and remove ignored attributes"
   ]
  },
  {
   "cell_type": "code",
   "execution_count": 2,
   "id": "6b51db24",
   "metadata": {},
   "outputs": [],
   "source": [
    "df = pd.read_csv('./OnlineNewsPopularity.csv')"
   ]
  },
  {
   "cell_type": "code",
   "execution_count": 3,
   "id": "b1bddc30",
   "metadata": {},
   "outputs": [
    {
     "data": {
      "text/html": [
       "<div>\n",
       "<style scoped>\n",
       "    .dataframe tbody tr th:only-of-type {\n",
       "        vertical-align: middle;\n",
       "    }\n",
       "\n",
       "    .dataframe tbody tr th {\n",
       "        vertical-align: top;\n",
       "    }\n",
       "\n",
       "    .dataframe thead th {\n",
       "        text-align: right;\n",
       "    }\n",
       "</style>\n",
       "<table border=\"1\" class=\"dataframe\">\n",
       "  <thead>\n",
       "    <tr style=\"text-align: right;\">\n",
       "      <th></th>\n",
       "      <th>url</th>\n",
       "      <th>timedelta</th>\n",
       "      <th>n_tokens_title</th>\n",
       "      <th>n_tokens_content</th>\n",
       "      <th>n_unique_tokens</th>\n",
       "      <th>n_non_stop_words</th>\n",
       "      <th>n_non_stop_unique_tokens</th>\n",
       "      <th>num_hrefs</th>\n",
       "      <th>num_self_hrefs</th>\n",
       "      <th>num_imgs</th>\n",
       "      <th>...</th>\n",
       "      <th>min_positive_polarity</th>\n",
       "      <th>max_positive_polarity</th>\n",
       "      <th>avg_negative_polarity</th>\n",
       "      <th>min_negative_polarity</th>\n",
       "      <th>max_negative_polarity</th>\n",
       "      <th>title_subjectivity</th>\n",
       "      <th>title_sentiment_polarity</th>\n",
       "      <th>abs_title_subjectivity</th>\n",
       "      <th>abs_title_sentiment_polarity</th>\n",
       "      <th>shares</th>\n",
       "    </tr>\n",
       "  </thead>\n",
       "  <tbody>\n",
       "    <tr>\n",
       "      <th>0</th>\n",
       "      <td>http://mashable.com/2013/01/07/amazon-instant-...</td>\n",
       "      <td>731.0</td>\n",
       "      <td>12.0</td>\n",
       "      <td>219.0</td>\n",
       "      <td>0.663594</td>\n",
       "      <td>1.0</td>\n",
       "      <td>0.815385</td>\n",
       "      <td>4.0</td>\n",
       "      <td>2.0</td>\n",
       "      <td>1.0</td>\n",
       "      <td>...</td>\n",
       "      <td>0.100000</td>\n",
       "      <td>0.7</td>\n",
       "      <td>-0.350000</td>\n",
       "      <td>-0.600</td>\n",
       "      <td>-0.200000</td>\n",
       "      <td>0.500000</td>\n",
       "      <td>-0.187500</td>\n",
       "      <td>0.000000</td>\n",
       "      <td>0.187500</td>\n",
       "      <td>593</td>\n",
       "    </tr>\n",
       "    <tr>\n",
       "      <th>1</th>\n",
       "      <td>http://mashable.com/2013/01/07/ap-samsung-spon...</td>\n",
       "      <td>731.0</td>\n",
       "      <td>9.0</td>\n",
       "      <td>255.0</td>\n",
       "      <td>0.604743</td>\n",
       "      <td>1.0</td>\n",
       "      <td>0.791946</td>\n",
       "      <td>3.0</td>\n",
       "      <td>1.0</td>\n",
       "      <td>1.0</td>\n",
       "      <td>...</td>\n",
       "      <td>0.033333</td>\n",
       "      <td>0.7</td>\n",
       "      <td>-0.118750</td>\n",
       "      <td>-0.125</td>\n",
       "      <td>-0.100000</td>\n",
       "      <td>0.000000</td>\n",
       "      <td>0.000000</td>\n",
       "      <td>0.500000</td>\n",
       "      <td>0.000000</td>\n",
       "      <td>711</td>\n",
       "    </tr>\n",
       "    <tr>\n",
       "      <th>2</th>\n",
       "      <td>http://mashable.com/2013/01/07/apple-40-billio...</td>\n",
       "      <td>731.0</td>\n",
       "      <td>9.0</td>\n",
       "      <td>211.0</td>\n",
       "      <td>0.575130</td>\n",
       "      <td>1.0</td>\n",
       "      <td>0.663866</td>\n",
       "      <td>3.0</td>\n",
       "      <td>1.0</td>\n",
       "      <td>1.0</td>\n",
       "      <td>...</td>\n",
       "      <td>0.100000</td>\n",
       "      <td>1.0</td>\n",
       "      <td>-0.466667</td>\n",
       "      <td>-0.800</td>\n",
       "      <td>-0.133333</td>\n",
       "      <td>0.000000</td>\n",
       "      <td>0.000000</td>\n",
       "      <td>0.500000</td>\n",
       "      <td>0.000000</td>\n",
       "      <td>1500</td>\n",
       "    </tr>\n",
       "    <tr>\n",
       "      <th>3</th>\n",
       "      <td>http://mashable.com/2013/01/07/astronaut-notre...</td>\n",
       "      <td>731.0</td>\n",
       "      <td>9.0</td>\n",
       "      <td>531.0</td>\n",
       "      <td>0.503788</td>\n",
       "      <td>1.0</td>\n",
       "      <td>0.665635</td>\n",
       "      <td>9.0</td>\n",
       "      <td>0.0</td>\n",
       "      <td>1.0</td>\n",
       "      <td>...</td>\n",
       "      <td>0.136364</td>\n",
       "      <td>0.8</td>\n",
       "      <td>-0.369697</td>\n",
       "      <td>-0.600</td>\n",
       "      <td>-0.166667</td>\n",
       "      <td>0.000000</td>\n",
       "      <td>0.000000</td>\n",
       "      <td>0.500000</td>\n",
       "      <td>0.000000</td>\n",
       "      <td>1200</td>\n",
       "    </tr>\n",
       "    <tr>\n",
       "      <th>4</th>\n",
       "      <td>http://mashable.com/2013/01/07/att-u-verse-apps/</td>\n",
       "      <td>731.0</td>\n",
       "      <td>13.0</td>\n",
       "      <td>1072.0</td>\n",
       "      <td>0.415646</td>\n",
       "      <td>1.0</td>\n",
       "      <td>0.540890</td>\n",
       "      <td>19.0</td>\n",
       "      <td>19.0</td>\n",
       "      <td>20.0</td>\n",
       "      <td>...</td>\n",
       "      <td>0.033333</td>\n",
       "      <td>1.0</td>\n",
       "      <td>-0.220192</td>\n",
       "      <td>-0.500</td>\n",
       "      <td>-0.050000</td>\n",
       "      <td>0.454545</td>\n",
       "      <td>0.136364</td>\n",
       "      <td>0.045455</td>\n",
       "      <td>0.136364</td>\n",
       "      <td>505</td>\n",
       "    </tr>\n",
       "  </tbody>\n",
       "</table>\n",
       "<p>5 rows × 61 columns</p>\n",
       "</div>"
      ],
      "text/plain": [
       "                                                 url   timedelta  \\\n",
       "0  http://mashable.com/2013/01/07/amazon-instant-...       731.0   \n",
       "1  http://mashable.com/2013/01/07/ap-samsung-spon...       731.0   \n",
       "2  http://mashable.com/2013/01/07/apple-40-billio...       731.0   \n",
       "3  http://mashable.com/2013/01/07/astronaut-notre...       731.0   \n",
       "4   http://mashable.com/2013/01/07/att-u-verse-apps/       731.0   \n",
       "\n",
       "    n_tokens_title   n_tokens_content   n_unique_tokens   n_non_stop_words  \\\n",
       "0             12.0              219.0          0.663594                1.0   \n",
       "1              9.0              255.0          0.604743                1.0   \n",
       "2              9.0              211.0          0.575130                1.0   \n",
       "3              9.0              531.0          0.503788                1.0   \n",
       "4             13.0             1072.0          0.415646                1.0   \n",
       "\n",
       "    n_non_stop_unique_tokens   num_hrefs   num_self_hrefs   num_imgs  ...  \\\n",
       "0                   0.815385         4.0              2.0        1.0  ...   \n",
       "1                   0.791946         3.0              1.0        1.0  ...   \n",
       "2                   0.663866         3.0              1.0        1.0  ...   \n",
       "3                   0.665635         9.0              0.0        1.0  ...   \n",
       "4                   0.540890        19.0             19.0       20.0  ...   \n",
       "\n",
       "    min_positive_polarity   max_positive_polarity   avg_negative_polarity  \\\n",
       "0                0.100000                     0.7               -0.350000   \n",
       "1                0.033333                     0.7               -0.118750   \n",
       "2                0.100000                     1.0               -0.466667   \n",
       "3                0.136364                     0.8               -0.369697   \n",
       "4                0.033333                     1.0               -0.220192   \n",
       "\n",
       "    min_negative_polarity   max_negative_polarity   title_subjectivity  \\\n",
       "0                  -0.600               -0.200000             0.500000   \n",
       "1                  -0.125               -0.100000             0.000000   \n",
       "2                  -0.800               -0.133333             0.000000   \n",
       "3                  -0.600               -0.166667             0.000000   \n",
       "4                  -0.500               -0.050000             0.454545   \n",
       "\n",
       "    title_sentiment_polarity   abs_title_subjectivity  \\\n",
       "0                  -0.187500                 0.000000   \n",
       "1                   0.000000                 0.500000   \n",
       "2                   0.000000                 0.500000   \n",
       "3                   0.000000                 0.500000   \n",
       "4                   0.136364                 0.045455   \n",
       "\n",
       "    abs_title_sentiment_polarity   shares  \n",
       "0                       0.187500      593  \n",
       "1                       0.000000      711  \n",
       "2                       0.000000     1500  \n",
       "3                       0.000000     1200  \n",
       "4                       0.136364      505  \n",
       "\n",
       "[5 rows x 61 columns]"
      ]
     },
     "execution_count": 3,
     "metadata": {},
     "output_type": "execute_result"
    }
   ],
   "source": [
    "df.head()"
   ]
  },
  {
   "cell_type": "code",
   "execution_count": 4,
   "id": "57a9e922-b242-442e-bf91-9af386515c18",
   "metadata": {},
   "outputs": [],
   "source": [
    "df = df.drop(df.columns[list(range(0,2))],axis = 1).drop(df.columns[list(range(13,39))],axis = 1)"
   ]
  },
  {
   "cell_type": "code",
   "execution_count": 5,
   "id": "a36e1e03-87a4-4416-ac3b-2c4a8aa14583",
   "metadata": {},
   "outputs": [],
   "source": [
    "A = df.to_numpy()"
   ]
  },
  {
   "cell_type": "code",
   "execution_count": 6,
   "id": "de89762d-b0f9-4457-bf09-dfbe97909dbc",
   "metadata": {},
   "outputs": [
    {
     "data": {
      "text/plain": [
       "array([[1.20000000e+01, 2.19000000e+02, 6.63594467e-01, ...,\n",
       "        0.00000000e+00, 1.87500000e-01, 5.93000000e+02],\n",
       "       [9.00000000e+00, 2.55000000e+02, 6.04743081e-01, ...,\n",
       "        5.00000000e-01, 0.00000000e+00, 7.11000000e+02],\n",
       "       [9.00000000e+00, 2.11000000e+02, 5.75129531e-01, ...,\n",
       "        5.00000000e-01, 0.00000000e+00, 1.50000000e+03],\n",
       "       ...,\n",
       "       [1.00000000e+01, 4.42000000e+02, 5.16355139e-01, ...,\n",
       "        4.54545455e-02, 1.36363636e-01, 1.90000000e+03],\n",
       "       [6.00000000e+00, 6.82000000e+02, 5.39493293e-01, ...,\n",
       "        5.00000000e-01, 0.00000000e+00, 1.10000000e+03],\n",
       "       [1.00000000e+01, 1.57000000e+02, 7.01986750e-01, ...,\n",
       "        1.66666667e-01, 2.50000000e-01, 1.30000000e+03]])"
      ]
     },
     "execution_count": 6,
     "metadata": {},
     "output_type": "execute_result"
    }
   ],
   "source": [
    "A"
   ]
  },
  {
   "cell_type": "code",
   "execution_count": 7,
   "id": "0826bf76-738e-4425-a5ab-83ecc47dbc3f",
   "metadata": {},
   "outputs": [
    {
     "data": {
      "text/html": [
       "<div>\n",
       "<style scoped>\n",
       "    .dataframe tbody tr th:only-of-type {\n",
       "        vertical-align: middle;\n",
       "    }\n",
       "\n",
       "    .dataframe tbody tr th {\n",
       "        vertical-align: top;\n",
       "    }\n",
       "\n",
       "    .dataframe thead th {\n",
       "        text-align: right;\n",
       "    }\n",
       "</style>\n",
       "<table border=\"1\" class=\"dataframe\">\n",
       "  <thead>\n",
       "    <tr style=\"text-align: right;\">\n",
       "      <th></th>\n",
       "      <th>n_tokens_title</th>\n",
       "      <th>n_tokens_content</th>\n",
       "      <th>n_unique_tokens</th>\n",
       "      <th>n_non_stop_words</th>\n",
       "      <th>n_non_stop_unique_tokens</th>\n",
       "      <th>num_hrefs</th>\n",
       "      <th>num_self_hrefs</th>\n",
       "      <th>num_imgs</th>\n",
       "      <th>num_videos</th>\n",
       "      <th>average_token_length</th>\n",
       "      <th>...</th>\n",
       "      <th>min_positive_polarity</th>\n",
       "      <th>max_positive_polarity</th>\n",
       "      <th>avg_negative_polarity</th>\n",
       "      <th>min_negative_polarity</th>\n",
       "      <th>max_negative_polarity</th>\n",
       "      <th>title_subjectivity</th>\n",
       "      <th>title_sentiment_polarity</th>\n",
       "      <th>abs_title_subjectivity</th>\n",
       "      <th>abs_title_sentiment_polarity</th>\n",
       "      <th>shares</th>\n",
       "    </tr>\n",
       "  </thead>\n",
       "  <tbody>\n",
       "    <tr>\n",
       "      <th>0</th>\n",
       "      <td>12.0</td>\n",
       "      <td>219.0</td>\n",
       "      <td>0.663594</td>\n",
       "      <td>1.0</td>\n",
       "      <td>0.815385</td>\n",
       "      <td>4.0</td>\n",
       "      <td>2.0</td>\n",
       "      <td>1.0</td>\n",
       "      <td>0.0</td>\n",
       "      <td>4.680365</td>\n",
       "      <td>...</td>\n",
       "      <td>0.100000</td>\n",
       "      <td>0.70</td>\n",
       "      <td>-0.350000</td>\n",
       "      <td>-0.600</td>\n",
       "      <td>-0.200000</td>\n",
       "      <td>0.500000</td>\n",
       "      <td>-0.187500</td>\n",
       "      <td>0.000000</td>\n",
       "      <td>0.187500</td>\n",
       "      <td>593</td>\n",
       "    </tr>\n",
       "    <tr>\n",
       "      <th>1</th>\n",
       "      <td>9.0</td>\n",
       "      <td>255.0</td>\n",
       "      <td>0.604743</td>\n",
       "      <td>1.0</td>\n",
       "      <td>0.791946</td>\n",
       "      <td>3.0</td>\n",
       "      <td>1.0</td>\n",
       "      <td>1.0</td>\n",
       "      <td>0.0</td>\n",
       "      <td>4.913725</td>\n",
       "      <td>...</td>\n",
       "      <td>0.033333</td>\n",
       "      <td>0.70</td>\n",
       "      <td>-0.118750</td>\n",
       "      <td>-0.125</td>\n",
       "      <td>-0.100000</td>\n",
       "      <td>0.000000</td>\n",
       "      <td>0.000000</td>\n",
       "      <td>0.500000</td>\n",
       "      <td>0.000000</td>\n",
       "      <td>711</td>\n",
       "    </tr>\n",
       "    <tr>\n",
       "      <th>2</th>\n",
       "      <td>9.0</td>\n",
       "      <td>211.0</td>\n",
       "      <td>0.575130</td>\n",
       "      <td>1.0</td>\n",
       "      <td>0.663866</td>\n",
       "      <td>3.0</td>\n",
       "      <td>1.0</td>\n",
       "      <td>1.0</td>\n",
       "      <td>0.0</td>\n",
       "      <td>4.393365</td>\n",
       "      <td>...</td>\n",
       "      <td>0.100000</td>\n",
       "      <td>1.00</td>\n",
       "      <td>-0.466667</td>\n",
       "      <td>-0.800</td>\n",
       "      <td>-0.133333</td>\n",
       "      <td>0.000000</td>\n",
       "      <td>0.000000</td>\n",
       "      <td>0.500000</td>\n",
       "      <td>0.000000</td>\n",
       "      <td>1500</td>\n",
       "    </tr>\n",
       "    <tr>\n",
       "      <th>3</th>\n",
       "      <td>9.0</td>\n",
       "      <td>531.0</td>\n",
       "      <td>0.503788</td>\n",
       "      <td>1.0</td>\n",
       "      <td>0.665635</td>\n",
       "      <td>9.0</td>\n",
       "      <td>0.0</td>\n",
       "      <td>1.0</td>\n",
       "      <td>0.0</td>\n",
       "      <td>4.404896</td>\n",
       "      <td>...</td>\n",
       "      <td>0.136364</td>\n",
       "      <td>0.80</td>\n",
       "      <td>-0.369697</td>\n",
       "      <td>-0.600</td>\n",
       "      <td>-0.166667</td>\n",
       "      <td>0.000000</td>\n",
       "      <td>0.000000</td>\n",
       "      <td>0.500000</td>\n",
       "      <td>0.000000</td>\n",
       "      <td>1200</td>\n",
       "    </tr>\n",
       "    <tr>\n",
       "      <th>4</th>\n",
       "      <td>13.0</td>\n",
       "      <td>1072.0</td>\n",
       "      <td>0.415646</td>\n",
       "      <td>1.0</td>\n",
       "      <td>0.540890</td>\n",
       "      <td>19.0</td>\n",
       "      <td>19.0</td>\n",
       "      <td>20.0</td>\n",
       "      <td>0.0</td>\n",
       "      <td>4.682836</td>\n",
       "      <td>...</td>\n",
       "      <td>0.033333</td>\n",
       "      <td>1.00</td>\n",
       "      <td>-0.220192</td>\n",
       "      <td>-0.500</td>\n",
       "      <td>-0.050000</td>\n",
       "      <td>0.454545</td>\n",
       "      <td>0.136364</td>\n",
       "      <td>0.045455</td>\n",
       "      <td>0.136364</td>\n",
       "      <td>505</td>\n",
       "    </tr>\n",
       "    <tr>\n",
       "      <th>...</th>\n",
       "      <td>...</td>\n",
       "      <td>...</td>\n",
       "      <td>...</td>\n",
       "      <td>...</td>\n",
       "      <td>...</td>\n",
       "      <td>...</td>\n",
       "      <td>...</td>\n",
       "      <td>...</td>\n",
       "      <td>...</td>\n",
       "      <td>...</td>\n",
       "      <td>...</td>\n",
       "      <td>...</td>\n",
       "      <td>...</td>\n",
       "      <td>...</td>\n",
       "      <td>...</td>\n",
       "      <td>...</td>\n",
       "      <td>...</td>\n",
       "      <td>...</td>\n",
       "      <td>...</td>\n",
       "      <td>...</td>\n",
       "      <td>...</td>\n",
       "    </tr>\n",
       "    <tr>\n",
       "      <th>39639</th>\n",
       "      <td>11.0</td>\n",
       "      <td>346.0</td>\n",
       "      <td>0.529052</td>\n",
       "      <td>1.0</td>\n",
       "      <td>0.684783</td>\n",
       "      <td>9.0</td>\n",
       "      <td>7.0</td>\n",
       "      <td>1.0</td>\n",
       "      <td>1.0</td>\n",
       "      <td>4.523121</td>\n",
       "      <td>...</td>\n",
       "      <td>0.100000</td>\n",
       "      <td>0.75</td>\n",
       "      <td>-0.260000</td>\n",
       "      <td>-0.500</td>\n",
       "      <td>-0.125000</td>\n",
       "      <td>0.100000</td>\n",
       "      <td>0.000000</td>\n",
       "      <td>0.400000</td>\n",
       "      <td>0.000000</td>\n",
       "      <td>1800</td>\n",
       "    </tr>\n",
       "    <tr>\n",
       "      <th>39640</th>\n",
       "      <td>12.0</td>\n",
       "      <td>328.0</td>\n",
       "      <td>0.696296</td>\n",
       "      <td>1.0</td>\n",
       "      <td>0.885057</td>\n",
       "      <td>9.0</td>\n",
       "      <td>7.0</td>\n",
       "      <td>3.0</td>\n",
       "      <td>48.0</td>\n",
       "      <td>4.405488</td>\n",
       "      <td>...</td>\n",
       "      <td>0.136364</td>\n",
       "      <td>0.70</td>\n",
       "      <td>-0.211111</td>\n",
       "      <td>-0.400</td>\n",
       "      <td>-0.100000</td>\n",
       "      <td>0.300000</td>\n",
       "      <td>1.000000</td>\n",
       "      <td>0.200000</td>\n",
       "      <td>1.000000</td>\n",
       "      <td>1900</td>\n",
       "    </tr>\n",
       "    <tr>\n",
       "      <th>39641</th>\n",
       "      <td>10.0</td>\n",
       "      <td>442.0</td>\n",
       "      <td>0.516355</td>\n",
       "      <td>1.0</td>\n",
       "      <td>0.644128</td>\n",
       "      <td>24.0</td>\n",
       "      <td>1.0</td>\n",
       "      <td>12.0</td>\n",
       "      <td>1.0</td>\n",
       "      <td>5.076923</td>\n",
       "      <td>...</td>\n",
       "      <td>0.136364</td>\n",
       "      <td>0.50</td>\n",
       "      <td>-0.356439</td>\n",
       "      <td>-0.800</td>\n",
       "      <td>-0.166667</td>\n",
       "      <td>0.454545</td>\n",
       "      <td>0.136364</td>\n",
       "      <td>0.045455</td>\n",
       "      <td>0.136364</td>\n",
       "      <td>1900</td>\n",
       "    </tr>\n",
       "    <tr>\n",
       "      <th>39642</th>\n",
       "      <td>6.0</td>\n",
       "      <td>682.0</td>\n",
       "      <td>0.539493</td>\n",
       "      <td>1.0</td>\n",
       "      <td>0.692661</td>\n",
       "      <td>10.0</td>\n",
       "      <td>1.0</td>\n",
       "      <td>1.0</td>\n",
       "      <td>0.0</td>\n",
       "      <td>4.975073</td>\n",
       "      <td>...</td>\n",
       "      <td>0.062500</td>\n",
       "      <td>0.50</td>\n",
       "      <td>-0.205246</td>\n",
       "      <td>-0.500</td>\n",
       "      <td>-0.012500</td>\n",
       "      <td>0.000000</td>\n",
       "      <td>0.000000</td>\n",
       "      <td>0.500000</td>\n",
       "      <td>0.000000</td>\n",
       "      <td>1100</td>\n",
       "    </tr>\n",
       "    <tr>\n",
       "      <th>39643</th>\n",
       "      <td>10.0</td>\n",
       "      <td>157.0</td>\n",
       "      <td>0.701987</td>\n",
       "      <td>1.0</td>\n",
       "      <td>0.846154</td>\n",
       "      <td>1.0</td>\n",
       "      <td>1.0</td>\n",
       "      <td>0.0</td>\n",
       "      <td>2.0</td>\n",
       "      <td>4.471338</td>\n",
       "      <td>...</td>\n",
       "      <td>0.100000</td>\n",
       "      <td>0.50</td>\n",
       "      <td>-0.200000</td>\n",
       "      <td>-0.200</td>\n",
       "      <td>-0.200000</td>\n",
       "      <td>0.333333</td>\n",
       "      <td>0.250000</td>\n",
       "      <td>0.166667</td>\n",
       "      <td>0.250000</td>\n",
       "      <td>1300</td>\n",
       "    </tr>\n",
       "  </tbody>\n",
       "</table>\n",
       "<p>39644 rows × 33 columns</p>\n",
       "</div>"
      ],
      "text/plain": [
       "        n_tokens_title   n_tokens_content   n_unique_tokens  \\\n",
       "0                 12.0              219.0          0.663594   \n",
       "1                  9.0              255.0          0.604743   \n",
       "2                  9.0              211.0          0.575130   \n",
       "3                  9.0              531.0          0.503788   \n",
       "4                 13.0             1072.0          0.415646   \n",
       "...                ...                ...               ...   \n",
       "39639             11.0              346.0          0.529052   \n",
       "39640             12.0              328.0          0.696296   \n",
       "39641             10.0              442.0          0.516355   \n",
       "39642              6.0              682.0          0.539493   \n",
       "39643             10.0              157.0          0.701987   \n",
       "\n",
       "        n_non_stop_words   n_non_stop_unique_tokens   num_hrefs  \\\n",
       "0                    1.0                   0.815385         4.0   \n",
       "1                    1.0                   0.791946         3.0   \n",
       "2                    1.0                   0.663866         3.0   \n",
       "3                    1.0                   0.665635         9.0   \n",
       "4                    1.0                   0.540890        19.0   \n",
       "...                  ...                        ...         ...   \n",
       "39639                1.0                   0.684783         9.0   \n",
       "39640                1.0                   0.885057         9.0   \n",
       "39641                1.0                   0.644128        24.0   \n",
       "39642                1.0                   0.692661        10.0   \n",
       "39643                1.0                   0.846154         1.0   \n",
       "\n",
       "        num_self_hrefs   num_imgs   num_videos   average_token_length  ...  \\\n",
       "0                  2.0        1.0          0.0               4.680365  ...   \n",
       "1                  1.0        1.0          0.0               4.913725  ...   \n",
       "2                  1.0        1.0          0.0               4.393365  ...   \n",
       "3                  0.0        1.0          0.0               4.404896  ...   \n",
       "4                 19.0       20.0          0.0               4.682836  ...   \n",
       "...                ...        ...          ...                    ...  ...   \n",
       "39639              7.0        1.0          1.0               4.523121  ...   \n",
       "39640              7.0        3.0         48.0               4.405488  ...   \n",
       "39641              1.0       12.0          1.0               5.076923  ...   \n",
       "39642              1.0        1.0          0.0               4.975073  ...   \n",
       "39643              1.0        0.0          2.0               4.471338  ...   \n",
       "\n",
       "        min_positive_polarity   max_positive_polarity   avg_negative_polarity  \\\n",
       "0                    0.100000                    0.70               -0.350000   \n",
       "1                    0.033333                    0.70               -0.118750   \n",
       "2                    0.100000                    1.00               -0.466667   \n",
       "3                    0.136364                    0.80               -0.369697   \n",
       "4                    0.033333                    1.00               -0.220192   \n",
       "...                       ...                     ...                     ...   \n",
       "39639                0.100000                    0.75               -0.260000   \n",
       "39640                0.136364                    0.70               -0.211111   \n",
       "39641                0.136364                    0.50               -0.356439   \n",
       "39642                0.062500                    0.50               -0.205246   \n",
       "39643                0.100000                    0.50               -0.200000   \n",
       "\n",
       "        min_negative_polarity   max_negative_polarity   title_subjectivity  \\\n",
       "0                      -0.600               -0.200000             0.500000   \n",
       "1                      -0.125               -0.100000             0.000000   \n",
       "2                      -0.800               -0.133333             0.000000   \n",
       "3                      -0.600               -0.166667             0.000000   \n",
       "4                      -0.500               -0.050000             0.454545   \n",
       "...                       ...                     ...                  ...   \n",
       "39639                  -0.500               -0.125000             0.100000   \n",
       "39640                  -0.400               -0.100000             0.300000   \n",
       "39641                  -0.800               -0.166667             0.454545   \n",
       "39642                  -0.500               -0.012500             0.000000   \n",
       "39643                  -0.200               -0.200000             0.333333   \n",
       "\n",
       "        title_sentiment_polarity   abs_title_subjectivity  \\\n",
       "0                      -0.187500                 0.000000   \n",
       "1                       0.000000                 0.500000   \n",
       "2                       0.000000                 0.500000   \n",
       "3                       0.000000                 0.500000   \n",
       "4                       0.136364                 0.045455   \n",
       "...                          ...                      ...   \n",
       "39639                   0.000000                 0.400000   \n",
       "39640                   1.000000                 0.200000   \n",
       "39641                   0.136364                 0.045455   \n",
       "39642                   0.000000                 0.500000   \n",
       "39643                   0.250000                 0.166667   \n",
       "\n",
       "        abs_title_sentiment_polarity   shares  \n",
       "0                           0.187500      593  \n",
       "1                           0.000000      711  \n",
       "2                           0.000000     1500  \n",
       "3                           0.000000     1200  \n",
       "4                           0.136364      505  \n",
       "...                              ...      ...  \n",
       "39639                       0.000000     1800  \n",
       "39640                       1.000000     1900  \n",
       "39641                       0.136364     1900  \n",
       "39642                       0.000000     1100  \n",
       "39643                       0.250000     1300  \n",
       "\n",
       "[39644 rows x 33 columns]"
      ]
     },
     "execution_count": 7,
     "metadata": {},
     "output_type": "execute_result"
    }
   ],
   "source": [
    "df"
   ]
  },
  {
   "cell_type": "markdown",
   "id": "cbb4cb1a-0642-4f10-958a-cc67f4501bc1",
   "metadata": {},
   "source": [
    "## Mean vector and total variance"
   ]
  },
  {
   "cell_type": "markdown",
   "id": "53e498c6-d47d-44ed-9047-4f6b08625321",
   "metadata": {},
   "source": [
    "### Mean"
   ]
  },
  {
   "cell_type": "code",
   "execution_count": 12,
   "id": "549e21dd-0771-4301-a41c-b945090aef72",
   "metadata": {},
   "outputs": [
    {
     "data": {
      "text/plain": [
       "array([ 1.03987489e+01,  5.46514731e+02,  5.48215717e-01,  9.96468565e-01,\n",
       "        6.89175394e-01,  1.08836898e+01,  3.29363838e+00,  4.54414287e+00,\n",
       "        1.24987388e+00,  4.54823932e+00,  7.22376652e+00,  1.84599048e-01,\n",
       "        1.41255773e-01,  2.16320967e-01,  2.23769617e-01,  2.34029371e-01,\n",
       "        4.43370200e-01,  1.19309269e-01,  3.96248330e-02,  1.66121195e-02,\n",
       "        6.82150221e-01,  2.87933524e-01,  3.53824943e-01,  9.54455381e-02,\n",
       "        7.56727544e-01, -2.59524141e-01, -5.21943728e-01, -1.07500240e-01,\n",
       "        2.82353184e-01,  7.14254320e-02,  3.41842756e-01,  1.56063663e-01,\n",
       "        3.39538018e+03])"
      ]
     },
     "execution_count": 12,
     "metadata": {},
     "output_type": "execute_result"
    }
   ],
   "source": [
    "mean = A.sum(axis=0) / A.shape[0]\n",
    "mean"
   ]
  },
  {
   "cell_type": "markdown",
   "id": "d4afc152-b78d-4219-9c03-07627d130323",
   "metadata": {},
   "source": [
    "### Total Varianece"
   ]
  },
  {
   "cell_type": "code",
   "execution_count": 22,
   "id": "9c736962-8202-4124-abc8-faf93083bb34",
   "metadata": {},
   "outputs": [],
   "source": [
    "tot_var = np.sum((A-mean)**2) / A.shape[0]"
   ]
  },
  {
   "cell_type": "code",
   "execution_count": 24,
   "id": "fc8b993a-e5e3-48dd-9543-08319482bc33",
   "metadata": {},
   "outputs": [
    {
     "data": {
      "text/plain": [
       "135404799.7377217"
      ]
     },
     "execution_count": 24,
     "metadata": {},
     "output_type": "execute_result"
    }
   ],
   "source": [
    "tot_var"
   ]
  },
  {
   "cell_type": "markdown",
   "id": "00e55995-2dd7-4743-a9fe-c77d3ef2710c",
   "metadata": {},
   "source": [
    "## Covariance matrix (inner and outer product form)"
   ]
  },
  {
   "cell_type": "markdown",
   "id": "36c11d93-f570-449b-a6a2-398bca70d2a0",
   "metadata": {},
   "source": [
    "### inner product"
   ]
  },
  {
   "cell_type": "code",
   "execution_count": 47,
   "id": "7c0bddf7-a02e-4c5e-a8bb-9ce8583da2e4",
   "metadata": {},
   "outputs": [
    {
     "data": {
      "text/plain": [
       "array([[ 4.46903889e+00,  1.80854387e+01, -3.95820555e-02, ...,\n",
       "        -5.86494607e-02,  1.93982451e-02,  2.15881875e+02],\n",
       "       [ 1.80854387e+01,  2.21936686e+05, -7.85621983e+00, ...,\n",
       "         6.34662705e-01,  1.43271448e+00,  1.34688547e+04],\n",
       "       [-3.95820555e-02, -7.85621983e+00,  1.23950745e+01, ...,\n",
       "        -6.14309369e-03, -3.35931915e-03,  3.30070096e+01],\n",
       "       ...,\n",
       "       [-5.86494607e-02,  6.34662705e-01, -6.14309369e-03, ...,\n",
       "         3.56410689e-02, -1.71000855e-02,  3.25079931e+00],\n",
       "       [ 1.93982451e-02,  1.43271448e+00, -3.35931915e-03, ...,\n",
       "        -1.71000855e-02,  5.12077722e-02,  7.13940172e+01],\n",
       "       [ 2.15881875e+02,  1.34688547e+04,  3.30070096e+01, ...,\n",
       "         3.25079931e+00,  7.13940172e+01,  1.35182574e+08]])"
      ]
     },
     "execution_count": 47,
     "metadata": {},
     "output_type": "execute_result"
    }
   ],
   "source": [
    "inner_p_cov = (np.dot((A-mean).T,(A-mean))/A.shape[0])\n",
    "inner_p_cov"
   ]
  },
  {
   "cell_type": "markdown",
   "id": "a92b96b5-ef0c-42b1-9057-1475ee30ef16",
   "metadata": {},
   "source": [
    "### outer product"
   ]
  },
  {
   "cell_type": "code",
   "execution_count": 50,
   "id": "f8548ab1-43ae-468c-8e33-a693d5ad34ec",
   "metadata": {},
   "outputs": [
    {
     "data": {
      "text/plain": [
       "array([[ 4.46903889e+00,  1.80854387e+01, -3.95820555e-02, ...,\n",
       "        -5.86494607e-02,  1.93982451e-02,  2.15881875e+02],\n",
       "       [ 1.80854387e+01,  2.21936686e+05, -7.85621983e+00, ...,\n",
       "         6.34662705e-01,  1.43271448e+00,  1.34688547e+04],\n",
       "       [-3.95820555e-02, -7.85621983e+00,  1.23950745e+01, ...,\n",
       "        -6.14309369e-03, -3.35931915e-03,  3.30070096e+01],\n",
       "       ...,\n",
       "       [-5.86494607e-02,  6.34662705e-01, -6.14309369e-03, ...,\n",
       "         3.56410689e-02, -1.71000855e-02,  3.25079931e+00],\n",
       "       [ 1.93982451e-02,  1.43271448e+00, -3.35931915e-03, ...,\n",
       "        -1.71000855e-02,  5.12077722e-02,  7.13940172e+01],\n",
       "       [ 2.15881875e+02,  1.34688547e+04,  3.30070096e+01, ...,\n",
       "         3.25079931e+00,  7.13940172e+01,  1.35182574e+08]])"
      ]
     },
     "execution_count": 50,
     "metadata": {},
     "output_type": "execute_result"
    }
   ],
   "source": [
    "centered = (A-mean)\n",
    "outer_product = sum([np.outer(centered[i], centered[i]) for i in range(centered.shape[0])]) / centered.shape[0]\n",
    "outer_product"
   ]
  },
  {
   "cell_type": "markdown",
   "id": "9a2fe2ba-fa7f-4f0a-b650-08d1b8e920f8",
   "metadata": {},
   "source": [
    "## Correlation matrix as pair-wise cosines"
   ]
  },
  {
   "cell_type": "code",
   "execution_count": 64,
   "id": "d9e8bbdf-0342-4db8-b9dd-96588d60616b",
   "metadata": {},
   "outputs": [],
   "source": [
    "def magnitude(x):\n",
    "    return np.sqrt(np.sum(np.square(x)))"
   ]
  },
  {
   "cell_type": "code",
   "execution_count": 63,
   "id": "9d9172f9-7a33-433b-9ae5-d479c2d3e76b",
   "metadata": {},
   "outputs": [
    {
     "data": {
      "text/plain": [
       "2821.4662615268817"
      ]
     },
     "execution_count": 63,
     "metadata": {},
     "output_type": "execute_result"
    }
   ],
   "source": [
    "magnitude(centered[0])"
   ]
  },
  {
   "cell_type": "code",
   "execution_count": 88,
   "id": "92d4c5c1-e4e8-40c8-bebb-c78772108cf8",
   "metadata": {},
   "outputs": [],
   "source": [
    "def correlation(x,y):\n",
    "    return np.dot(x.T,y)/(magnitude(x)*magnitude(y))"
   ]
  },
  {
   "cell_type": "code",
   "execution_count": 89,
   "id": "32861c6e-943e-47d9-89a2-ba9fa4d2c64a",
   "metadata": {},
   "outputs": [],
   "source": [
    "correlation_matrix = np.array([[correlation(i,j) for i in centered.T] for j in centered.T])"
   ]
  },
  {
   "cell_type": "code",
   "execution_count": 90,
   "id": "7555dace-af41-4a15-8ca3-1e1936488f1f",
   "metadata": {},
   "outputs": [
    {
     "data": {
      "text/plain": [
       "array([[ 1.00000000e+00,  1.81596482e-02, -5.31822498e-03, ...,\n",
       "        -1.46954062e-01,  4.05496802e-02,  8.78311884e-03],\n",
       "       [ 1.81596482e-02,  1.00000000e+00, -4.73668505e-03, ...,\n",
       "         7.13597090e-03,  1.34393158e-02,  2.45898435e-03],\n",
       "       [-5.31822498e-03, -4.73668505e-03,  1.00000000e+00, ...,\n",
       "        -9.24245210e-03, -4.21656456e-03,  8.06345661e-04],\n",
       "       ...,\n",
       "       [-1.46954062e-01,  7.13597090e-03, -9.24245210e-03, ...,\n",
       "         1.00000000e+00, -4.00271787e-01,  1.48099790e-03],\n",
       "       [ 4.05496802e-02,  1.34393158e-02, -4.21656456e-03, ...,\n",
       "        -4.00271787e-01,  1.00000000e+00,  2.71352310e-02],\n",
       "       [ 8.78311884e-03,  2.45898435e-03,  8.06345661e-04, ...,\n",
       "         1.48099790e-03,  2.71352310e-02,  1.00000000e+00]])"
      ]
     },
     "execution_count": 90,
     "metadata": {},
     "output_type": "execute_result"
    }
   ],
   "source": [
    "correlation_matrix"
   ]
  },
  {
   "cell_type": "markdown",
   "id": "3a83fe8c-7adb-40fa-a54c-aa704a9c2d8d",
   "metadata": {},
   "source": [
    "### Find the most correlated pairs\n",
    "* set the diagnal to 0 to avoid finding itself as most correlated"
   ]
  },
  {
   "cell_type": "code",
   "execution_count": 107,
   "id": "1fc33cbc-cde7-4166-8a58-950c651a1478",
   "metadata": {},
   "outputs": [],
   "source": [
    "def get_index(arg,matrix):\n",
    "    row = arg//matrix.shape[0]\n",
    "    col = arg%matrix.shape[0]\n",
    "    return (row,col)"
   ]
  },
  {
   "cell_type": "code",
   "execution_count": 116,
   "id": "97ad4209-d420-4a1a-a273-810e83bdcc2d",
   "metadata": {},
   "outputs": [],
   "source": [
    "for i in range(correlation_matrix.shape[0]):\n",
    "    correlation_matrix[i][i] = 0\n",
    "most_corr_index = get_index(np.argmax(correlation_matrix),correlation_matrix)"
   ]
  },
  {
   "cell_type": "code",
   "execution_count": 120,
   "id": "9ec0b57d-d777-4edc-9c41-13a9f7fcc815",
   "metadata": {},
   "outputs": [
    {
     "name": "stdout",
     "output_type": "stream",
     "text": [
      "The most correlated pair is  n_unique_tokens and  n_non_stop_unique_tokens, the indecies are 2 and 4 respectively\n"
     ]
    }
   ],
   "source": [
    "f = f\"The most correlated pair is {df.columns[most_corr_index[0]]} and {df.columns[most_corr_index[1]]}, the indecies are {most_corr_index[0]} and {most_corr_index[1]} respectively\"\n",
    "print(f)"
   ]
  },
  {
   "cell_type": "markdown",
   "id": "877b7afa-096c-4cf9-9fc5-c8a18c589f50",
   "metadata": {},
   "source": [
    "### Find the most anti correlated pairs"
   ]
  },
  {
   "cell_type": "code",
   "execution_count": 122,
   "id": "5e4bebbe-0bf6-4c12-823b-d9ad92287f3e",
   "metadata": {},
   "outputs": [],
   "source": [
    "anti_corr_index = get_index(np.argmin(correlation_matrix),correlation_matrix)"
   ]
  },
  {
   "cell_type": "code",
   "execution_count": 130,
   "id": "974a58d0-8c3d-44b0-b22d-a52b7fa6f337",
   "metadata": {},
   "outputs": [
    {
     "name": "stdout",
     "output_type": "stream",
     "text": [
      "The most anti-correlated pair is  global_sentiment_polarity and  rate_negative_words, the indecies are 17 and 21 respectively\n"
     ]
    }
   ],
   "source": [
    "f = f\"The most anti-correlated pair is {df.columns[anti_corr_index[0]]} and {df.columns[anti_corr_index[1]]}, the indecies are {anti_corr_index[0]} and {anti_corr_index[1]} respectively\"\n",
    "print(f)"
   ]
  },
  {
   "cell_type": "markdown",
   "id": "7bf6c972-18b2-4bca-b62c-f38895a6f3ce",
   "metadata": {},
   "source": [
    "### Find the least correlated pairs\n",
    "* To find the least correlated pairs, we need to take the absolute value of the matrix first"
   ]
  },
  {
   "cell_type": "code",
   "execution_count": 128,
   "id": "1f30208c-8cdc-453c-939e-69b0debe74d5",
   "metadata": {},
   "outputs": [],
   "source": [
    "for i in range(correlation_matrix.shape[0]):\n",
    "    correlation_matrix[i][i] = 1\n",
    "correlation_matrix = np.abs(correlation_matrix)\n",
    "least_corr_index = get_index(np.argmin(correlation_matrix),correlation_matrix)"
   ]
  },
  {
   "cell_type": "code",
   "execution_count": 129,
   "id": "e741f981-24f2-462c-855f-5091ba3f9585",
   "metadata": {},
   "outputs": [
    {
     "name": "stdout",
     "output_type": "stream",
     "text": [
      "The least correlated pair is  n_unique_tokens and  global_rate_positive_words, the indecies are 2 and 18 respectively\n"
     ]
    }
   ],
   "source": [
    "f = f\"The least correlated pair is {df.columns[least_corr_index[0]]} and {df.columns[least_corr_index[1]]}, the indecies are {least_corr_index[0]} and {least_corr_index[1]} respectively\"\n",
    "print(f)"
   ]
  },
  {
   "cell_type": "code",
   "execution_count": 133,
   "id": "8621d8d5-3af3-42f5-bd4e-cbb7a778a389",
   "metadata": {},
   "outputs": [
    {
     "data": {
      "text/plain": [
       "Text(0, 0.5, 'Attribute 4')"
      ]
     },
     "execution_count": 133,
     "metadata": {},
     "output_type": "execute_result"
    },
    {
     "data": {
      "image/png": "[encoded data removed]",
      "text/plain": [
       "<Figure size 432x288 with 1 Axes>"
      ]
     },
     "metadata": {
      "needs_background": "light"
     },
     "output_type": "display_data"
    }
   ],
   "source": [
    "plt.plot(centered[:, most_corr_index[0]], centered[:, most_corr_index[1]], 'o', color='black', markersize=1)\n",
    "plt.title(\"most correlated\")\n",
    "plt.xlabel('Attribute ' + str(most_corr_index[0]))\n",
    "plt.ylabel('Attribute ' + str(most_corr_index[1]))"
   ]
  },
  {
   "cell_type": "code",
   "execution_count": 134,
   "id": "9bd3f286-ef58-43e8-8d83-ca847a8286d0",
   "metadata": {},
   "outputs": [
    {
     "data": {
      "text/plain": [
       "Text(0, 0.5, 'Attribute 18')"
      ]
     },
     "execution_count": 134,
     "metadata": {},
     "output_type": "execute_result"
    },
    {
     "data": {
      "image/png": "[encoded data removed]",
      "text/plain": [
       "<Figure size 432x288 with 1 Axes>"
      ]
     },
     "metadata": {
      "needs_background": "light"
     },
     "output_type": "display_data"
    }
   ],
   "source": [
    "plt.plot(centered[:, least_corr_index[0]], centered[:, least_corr_index[1]], 'o', color='black', markersize=1)\n",
    "plt.title(\"least correlated\")\n",
    "plt.xlabel('Attribute ' + str(least_corr_index[0]))\n",
    "plt.ylabel('Attribute ' + str(least_corr_index[1]))"
   ]
  },
  {
   "cell_type": "code",
   "execution_count": 135,
   "id": "9c97dff6-63bf-4933-8aae-da0d4ec04fd2",
   "metadata": {},
   "outputs": [
    {
     "data": {
      "text/plain": [
       "Text(0, 0.5, 'Attribute 21')"
      ]
     },
     "execution_count": 135,
     "metadata": {},
     "output_type": "execute_result"
    },
    {
     "data": {
      "image/png": "[encoded data removed]",
      "text/plain": [
       "<Figure size 432x288 with 1 Axes>"
      ]
     },
     "metadata": {
      "needs_background": "light"
     },
     "output_type": "display_data"
    }
   ],
   "source": [
    "plt.plot(centered[:, anti_corr_index[0]], centered[:, anti_corr_index[1]], 'o', color='black', markersize=1)\n",
    "plt.title(\"anti correlated\")\n",
    "plt.xlabel('Attribute ' + str(anti_corr_index[0]))\n",
    "plt.ylabel('Attribute ' + str(anti_corr_index[1]))"
   ]
  },
  {
   "cell_type": "code",
   "execution_count": null,
   "id": "c0171428-29aa-4b98-984e-41494c470159",
   "metadata": {},
   "outputs": [],
   "source": []
  }
 ],
 "metadata": {
  "kernelspec": {
   "display_name": "Python 3 (ipykernel)",
   "language": "python",
   "name": "python3"
  },
  "language_info": {
   "codemirror_mode": {
    "name": "ipython",
    "version": 3
   },
   "file_extension": ".py",
   "mimetype": "text/x-python",
   "name": "python",
   "nbconvert_exporter": "python",
   "pygments_lexer": "ipython3",
   "version": "3.7.6"
  },
  "latex_envs": {
   "LaTeX_envs_menu_present": true,
   "autoclose": false,
   "autocomplete": true,
   "bibliofile": "biblio.bib",
   "cite_by": "apalike",
   "current_citInitial": 1,
   "eqLabelWithNumbers": true,
   "eqNumInitial": 1,
   "hotkeys": {
    "equation": "Ctrl-E",
    "itemize": "Ctrl-I"
   },
   "labels_anchors": false,
   "latex_user_defs": false,
   "report_style_numbering": false,
   "user_envs_cfg": false
  },
  "toc": {
   "base_numbering": 1,
   "nav_menu": {},
   "number_sections": true,
   "sideBar": true,
   "skip_h1_title": false,
   "title_cell": "Table of Contents",
   "title_sidebar": "Contents",
   "toc_cell": false,
   "toc_position": {},
   "toc_section_display": true,
   "toc_window_display": false
  },
  "varInspector": {
   "cols": {
    "lenName": 16,
    "lenType": 16,
    "lenVar": 40
   },
   "kernels_config": {
    "python": {
     "delete_cmd_postfix": "",
     "delete_cmd_prefix": "del ",
     "library": "var_list.py",
     "varRefreshCmd": "print(var_dic_list())"
    },
    "r": {
     "delete_cmd_postfix": ") ",
     "delete_cmd_prefix": "rm(",
     "library": "var_list.r",
     "varRefreshCmd": "cat(var_dic_list()) "
    }
   },
   "types_to_exclude": [
    "module",
    "function",
    "builtin_function_or_method",
    "instance",
    "_Feature"
   ],
   "window_display": false
  }
 },
 "nbformat": 4,
 "nbformat_minor": 5
}
