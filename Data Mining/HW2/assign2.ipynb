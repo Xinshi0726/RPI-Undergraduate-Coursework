{
 "cells": [
  {
   "cell_type": "code",
   "execution_count": 1,
   "id": "d339b032-d265-4223-b6ad-f44a6253215f",
   "metadata": {},
   "outputs": [],
   "source": [
    "import pandas as pd\n",
    "import numpy as np\n",
    "import math\n",
    "import matplotlib.pyplot as plt\n",
    "import seaborn as sns"
   ]
  },
  {
   "cell_type": "code",
   "execution_count": 2,
   "id": "4c9c45dc",
   "metadata": {},
   "outputs": [],
   "source": [
    "## helper functions\n",
    "def length(a):\n",
    "    return np.sqrt(np.dot(a.T,a))\n",
    "\n",
    "def normalize(a):\n",
    "    return a/length(a)\n",
    "\n",
    "def get_cov(X,X_mean):\n",
    "    return (np.dot((X-X_mean).T,(X-X_mean))/X.shape[0])\n",
    "\n",
    "def get_mean(X):\n",
    "    return X.sum(axis=0) / X.shape[0]\n",
    "\n",
    "def total_variance(X,X_mean):\n",
    "    return np.sum((X-X_mean)**2) / X.shape[0]\n",
    "    "
   ]
  },
  {
   "cell_type": "code",
   "execution_count": 3,
   "id": "9754670b-1688-4c0e-9657-81fbef6f8a83",
   "metadata": {},
   "outputs": [],
   "source": [
    "np.random.seed(42)"
   ]
  },
  {
   "cell_type": "code",
   "execution_count": 4,
   "id": "042805f5-8443-4035-a832-8dbc190e7e7a",
   "metadata": {},
   "outputs": [],
   "source": [
    "df = pd.read_csv('./OnlineNewsPopularity.csv')"
   ]
  },
  {
   "cell_type": "code",
   "execution_count": 5,
   "id": "d9959cf4-9729-4b17-81c6-4d1b976279cd",
   "metadata": {},
   "outputs": [],
   "source": [
    "df = df.drop(df.columns[list(range(0,2))+list(range(4,7))+list(range(13,39))+list([60])],axis = 1)"
   ]
  },
  {
   "cell_type": "code",
   "execution_count": 6,
   "id": "0a40c6ed-a4aa-462e-900a-e555a8c1b78f",
   "metadata": {},
   "outputs": [],
   "source": [
    "A = df.to_numpy()\n",
    "A = A - get_mean(A)"
   ]
  },
  {
   "cell_type": "markdown",
   "id": "6700fd7d-df64-4cd8-8bb8-79acb331356e",
   "metadata": {},
   "source": [
    "## Part I: Principal Components"
   ]
  },
  {
   "cell_type": "code",
   "execution_count": 7,
   "id": "f44e8d24-8604-44b3-89f7-18947123173d",
   "metadata": {},
   "outputs": [],
   "source": [
    "## find out what is d\n",
    "d = A.shape[1]"
   ]
  },
  {
   "cell_type": "code",
   "execution_count": 8,
   "id": "8972dc1d-a98a-4631-a453-0a86dad2a4cc",
   "metadata": {},
   "outputs": [],
   "source": [
    "epsilon = 10e-6\n",
    "intermediate_result = list()\n",
    "X_i = np.random.rand(d,2)\n",
    "X_i[:,0] = normalize(X_i[:,0])\n",
    "X_i[:,1] = normalize(X_i[:,1])\n",
    "cov = get_cov(A,get_mean(A))\n",
    "while len(intermediate_result)<2 or np.linalg.norm(intermediate_result[-1] - intermediate_result[-2])>=epsilon:\n",
    "    X_iplus1 = np.dot(cov,X_i)\n",
    "    X_iplus1[:,1] = X_iplus1[:,1] - np.dot((np.dot(X_iplus1[:,1].T,X_iplus1[:,0])/np.dot(X_iplus1[:,0].T,X_iplus1[:,0])),X_iplus1[:,0])\n",
    "    X_iplus1[:,0] = normalize(X_iplus1[:,0])\n",
    "    X_iplus1[:,1] = normalize(X_iplus1[:,1])\n",
    "    X_i = X_iplus1\n",
    "    intermediate_result.append(X_iplus1)"
   ]
  },
  {
   "cell_type": "markdown",
   "id": "a1266d29-c79e-4cf4-a9ae-c58cc560d690",
   "metadata": {},
   "source": [
    "## print the eigenvectors"
   ]
  },
  {
   "cell_type": "code",
   "execution_count": 9,
   "id": "b73841ee-3e48-4e9f-9dda-17fb768e1914",
   "metadata": {},
   "outputs": [
    {
     "data": {
      "text/plain": [
       "array([ 8.14100194e-05,  9.99926215e-01,  1.01811464e-02,  2.49388297e-03,\n",
       "        6.04491654e-03,  9.04271447e-04,  3.00785998e-04,  2.95308578e-04,\n",
       "        1.46195969e-05, -4.53741188e-06,  5.22428019e-05, -8.77574570e-05,\n",
       "        2.53161365e-05,  3.16816880e-05,  4.51765886e-06,  4.95594477e-06,\n",
       "        2.87291719e-06,  3.99556713e-05,  3.34944687e-05,  2.99912637e-05,\n",
       "       -3.95789431e-05,  2.18646340e-04, -3.53519865e-05, -2.77644379e-04,\n",
       "        4.57198703e-05,  3.09714383e-06,  1.31668126e-05,  2.85934541e-06,\n",
       "        6.46413486e-06])"
      ]
     },
     "execution_count": 9,
     "metadata": {},
     "output_type": "execute_result"
    }
   ],
   "source": [
    "u_1 = X_iplus1[:,0]\n",
    "u_1"
   ]
  },
  {
   "cell_type": "code",
   "execution_count": 10,
   "id": "9f1e80d4-1415-4e06-975f-fb69da75b486",
   "metadata": {},
   "outputs": [
    {
     "data": {
      "text/plain": [
       "array([-1.34374538e-02, -1.18687466e-02,  9.32584345e-01,  1.23326144e-01,\n",
       "        3.37162266e-01,  2.02110767e-02,  1.17240203e-02,  2.10723522e-02,\n",
       "       -1.84965431e-03, -7.32427179e-04, -2.31818969e-03,  6.96473822e-03,\n",
       "       -2.06544977e-03,  1.77574444e-03,  7.68324644e-04, -3.02962896e-05,\n",
       "       -2.51717253e-05,  8.91039585e-04,  2.47099283e-04,  1.43983891e-03,\n",
       "        3.08137878e-04,  2.72151615e-03, -1.25921471e-03, -1.83848564e-03,\n",
       "       -4.55306197e-04,  1.70199974e-03,  9.97328837e-04,  4.51956392e-05,\n",
       "        1.39464765e-03])"
      ]
     },
     "execution_count": 10,
     "metadata": {},
     "output_type": "execute_result"
    }
   ],
   "source": [
    "u_2 = X_iplus1[:,1]\n",
    "u_2"
   ]
  },
  {
   "cell_type": "code",
   "execution_count": 11,
   "id": "c6180265-7bd4-4670-8d11-441415a1de72",
   "metadata": {},
   "outputs": [],
   "source": [
    "first_PC = np.dot(A, u_1)\n",
    "second_PC = np.dot(A, u_2)"
   ]
  },
  {
   "cell_type": "code",
   "execution_count": 12,
   "id": "c307e4bd",
   "metadata": {},
   "outputs": [],
   "source": [
    "pc = np.concatenate((first_PC.reshape(-1,1),second_PC.reshape(-1,1)),axis = 1)"
   ]
  },
  {
   "cell_type": "code",
   "execution_count": 13,
   "id": "2df55d61",
   "metadata": {},
   "outputs": [],
   "source": [
    "pc = pd.DataFrame(pc,columns=['pc1','pc2'])"
   ]
  },
  {
   "cell_type": "code",
   "execution_count": 14,
   "id": "dc93e9c7",
   "metadata": {},
   "outputs": [
    {
     "data": {
      "text/plain": [
       "<AxesSubplot:xlabel='pc1', ylabel='pc2'>"
      ]
     },
     "execution_count": 14,
     "metadata": {},
     "output_type": "execute_result"
    },
    {
     "data": {
      "image/png": "[encoded data removed]",
      "text/plain": [
       "<Figure size 432x288 with 1 Axes>"
      ]
     },
     "metadata": {
      "needs_background": "light"
     },
     "output_type": "display_data"
    }
   ],
   "source": [
    "sns.scatterplot(data = pc, x= 'pc1',y = 'pc2')"
   ]
  },
  {
   "cell_type": "markdown",
   "id": "1445d211",
   "metadata": {},
   "source": [
    "## To calculate the captured variance, we use the variance of the projectede matrix diveded by the variance of the original matrix"
   ]
  },
  {
   "cell_type": "code",
   "execution_count": 15,
   "id": "e3f636a5",
   "metadata": {},
   "outputs": [
    {
     "data": {
      "text/plain": [
       "0.9995844392378403"
      ]
     },
     "execution_count": 15,
     "metadata": {},
     "output_type": "execute_result"
    }
   ],
   "source": [
    "total_variance(np.array(pc),get_mean(np.array(pc)))/total_variance(A,get_mean(A))"
   ]
  },
  {
   "cell_type": "markdown",
   "id": "96b311a8",
   "metadata": {},
   "source": [
    "To find the error given only two PCs, we use the formula mse = var(D) - $\\lambda_1$ - $\\lambda_2$.\n",
    "Given the eigenvector, we can find the eigenvalue using the following equation\n",
    "$$\\lambda = \\cfrac{v^T A^T v}{v^T v} = \\cfrac{(A v)^T v}{v^T v}$$"
   ]
  },
  {
   "cell_type": "code",
   "execution_count": 16,
   "id": "99217e45",
   "metadata": {},
   "outputs": [],
   "source": [
    "labda_1 = np.dot(np.dot(u_1.T,cov.T),u_1)/(np.dot(u_1.T,u_1))\n",
    "labda_2 = np.dot(np.dot(u_2.T,cov.T),u_2)/(np.dot(u_2.T,u_2))"
   ]
  },
  {
   "cell_type": "code",
   "execution_count": 17,
   "id": "76d9259e",
   "metadata": {},
   "outputs": [
    {
     "data": {
      "text/plain": [
       "92.32746408395414"
      ]
     },
     "execution_count": 17,
     "metadata": {},
     "output_type": "execute_result"
    }
   ],
   "source": [
    "error = total_variance(A,get_mean(A)) - labda_1 -labda_2\n",
    "error"
   ]
  },
  {
   "cell_type": "markdown",
   "id": "5e2e1c96",
   "metadata": {},
   "source": [
    "Part II: Points in High Dimensional Space"
   ]
  },
  {
   "cell_type": "code",
   "execution_count": 18,
   "id": "22715d70",
   "metadata": {},
   "outputs": [],
   "source": [
    "## generate the dateset (epsilon was added since the 1 is an open interval in this formula)\n",
    "ds = []\n",
    "for d in range(2,21):\n",
    "    ds.append(1+epsilon-(-1) * np.random.random_sample(size=(1000000,d)) + (- 1))"
   ]
  },
  {
   "cell_type": "code",
   "execution_count": 19,
   "id": "b6c7c3a8",
   "metadata": {},
   "outputs": [],
   "source": [
    "## if a point has norm<=1, then it is in the inscribed hypersphere\n",
    "ds_counter = [0]*len(ds)\n",
    "for i in range(len(ds)):\n",
    "    for j in ds[i]:\n",
    "        if length(j) <= 1:\n",
    "            ds_counter[i] += 1\n",
    "    ds_counter[i] = ds_counter[i]/ds[i].shape[0]"
   ]
  },
  {
   "cell_type": "code",
   "execution_count": null,
   "id": "82bc82a2",
   "metadata": {},
   "outputs": [],
   "source": [
    "ds_counter_1 = np.concatenate((np.array(range(2,21)).reshape(-1,1),np.array(ds_counter).reshape(-1,1)),axis = 1)\n",
    "ds_counter_1 = pd.DataFrame(ds_counter_1,columns=['d','fraction'])"
   ]
  },
  {
   "cell_type": "code",
   "execution_count": null,
   "id": "12cd8bf1",
   "metadata": {},
   "outputs": [
    {
     "data": {
      "text/plain": [
       "<AxesSubplot:xlabel='d', ylabel='fraction'>"
      ]
     },
     "execution_count": 65,
     "metadata": {},
     "output_type": "execute_result"
    },
    {
     "data": {
      "image/png": "[encoded data removed]",
      "text/plain": [
       "<Figure size 432x288 with 1 Axes>"
      ]
     },
     "metadata": {
      "needs_background": "light"
     },
     "output_type": "display_data"
    }
   ],
   "source": [
    "sns.scatterplot(data = ds_counter_1, x= 'd',y = 'fraction')"
   ]
  },
  {
   "cell_type": "code",
   "execution_count": null,
   "id": "61449809",
   "metadata": {},
   "outputs": [],
   "source": [
    "## if a point has any of its point smaller than -1 + epsilon or greater than 1-epsilon, then it is outside of H_epsilon\n",
    "epsilon_1 = 0.1\n",
    "ds_counter_2 = [0]*len(ds)\n",
    "for i in range(len(ds)):\n",
    "    for j in ds[i]:\n",
    "        flag = False\n",
    "        for k in j:\n",
    "            if k<-1+epsilon_1 or k>1-epsilon_1: \n",
    "                flag = True\n",
    "                break\n",
    "        if flag:\n",
    "            ds_counter_2[i] += 1\n",
    "    ds_counter_2[i] = ds_counter_2[i]/ds[i].shape[0]"
   ]
  },
  {
   "cell_type": "markdown",
   "id": "9a24efe3",
   "metadata": {},
   "source": [
    "## The trend is exponential decay. As d increases, the fraction decays exponentially."
   ]
  },
  {
   "cell_type": "code",
   "execution_count": null,
   "id": "0c9382b9",
   "metadata": {},
   "outputs": [],
   "source": [
    "ds_counter_2 = np.concatenate((np.array(range(2,21)).reshape(-1,1),np.array(ds_counter_2).reshape(-1,1)),axis = 1)\n",
    "ds_counter_2 = pd.DataFrame(ds_counter_2,columns=['d','fraction'])"
   ]
  },
  {
   "cell_type": "code",
   "execution_count": null,
   "id": "d8461003",
   "metadata": {},
   "outputs": [
    {
     "data": {
      "text/plain": [
       "<AxesSubplot:xlabel='d', ylabel='fraction'>"
      ]
     },
     "execution_count": 68,
     "metadata": {},
     "output_type": "execute_result"
    },
    {
     "data": {
      "image/png": "[encoded data removed]",
      "text/plain": [
       "<Figure size 432x288 with 1 Axes>"
      ]
     },
     "metadata": {
      "needs_background": "light"
     },
     "output_type": "display_data"
    }
   ],
   "source": [
    "sns.scatterplot(data = ds_counter_2, x= 'd',y = 'fraction')"
   ]
  },
  {
   "cell_type": "markdown",
   "id": "d083fef1",
   "metadata": {},
   "source": [
    "## The trend is exponential growth. As d increases, the fraction grows exponentially."
   ]
  }
 ],
 "metadata": {
  "kernelspec": {
   "display_name": "Python 3.7.6 ('base')",
   "language": "python",
   "name": "python3"
  },
  "language_info": {
   "codemirror_mode": {
    "name": "ipython",
    "version": 3
   },
   "file_extension": ".py",
   "mimetype": "text/x-python",
   "name": "python",
   "nbconvert_exporter": "python",
   "pygments_lexer": "ipython3",
   "version": "3.7.6"
  },
  "vscode": {
   "interpreter": {
    "hash": "1583098d49b8b63b24ba78fec75676b625853923384d7c0eb5f87db36da8a08e"
   }
  }
 },
 "nbformat": 4,
 "nbformat_minor": 5
}
