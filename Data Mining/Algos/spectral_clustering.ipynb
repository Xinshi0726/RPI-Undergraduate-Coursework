{
 "cells": [
  {
   "cell_type": "code",
   "execution_count": 5,
   "metadata": {},
   "outputs": [],
   "source": [
    "import numpy as np \n",
    "import pandas as pd\n",
    "import matplotlib.pyplot as plt\n",
    "from scipy.special import logsumexp\n",
    "import random\n",
    "import math\n",
    "from scipy.stats import multivariate_normal\n",
    "from sklearn.model_selection import StratifiedShuffleSplit\n",
    "from sklearn.preprocessing import MinMaxScaler\n",
    "from scipy.spatial.distance import pdist, squareform\n",
    "from sklearn.model_selection import StratifiedShuffleSplit\n",
    "from sklearn.cluster import KMeans\n"
   ]
  },
  {
   "cell_type": "code",
   "execution_count": 17,
   "metadata": {},
   "outputs": [
    {
     "name": "stderr",
     "output_type": "stream",
     "text": [
      "c:\\Users\\Micha\\anaconda3\\lib\\site-packages\\IPython\\core\\interactiveshell.py:3553: DtypeWarning: Columns (5,6) have mixed types.Specify dtype option on import or set low_memory=False.\n",
      "  exec(code_obj, self.user_global_ns, self.user_ns)\n"
     ]
    }
   ],
   "source": [
    "train = np.array(pd.read_csv('./codon_usage.csv'))\n",
    "# shuffle the dataset\n",
    "train = np.delete(train, (486,5063), axis=0)\n",
    "y = np.copy(train[:,0])\n",
    "X = np.delete(train,(0,1,2,3,4), axis=1)\n",
    "X = X.astype(np.float32)"
   ]
  },
  {
   "cell_type": "code",
   "execution_count": 7,
   "metadata": {},
   "outputs": [],
   "source": [
    "scaler = MinMaxScaler()\n",
    "scaler.fit(X)\n",
    "X = scaler.transform(X)"
   ]
  },
  {
   "cell_type": "code",
   "execution_count": 11,
   "metadata": {},
   "outputs": [],
   "source": [
    "def one_hot_encoding(data):\n",
    "    num_count = set()\n",
    "    for i in data:\n",
    "        num_count.add(i)\n",
    "    num_count = list(num_count)\n",
    "    data = np.copy(data)\n",
    "    zeros = np.zeros((data.shape[0],len(num_count)))\n",
    "    for i in range(data.shape[0]):\n",
    "        zeros[i,num_count.index(data[i])] = 1\n",
    "    return zeros"
   ]
  },
  {
   "cell_type": "code",
   "execution_count": 8,
   "metadata": {},
   "outputs": [
    {
     "data": {
      "text/plain": [
       "5"
      ]
     },
     "execution_count": 8,
     "metadata": {},
     "output_type": "execute_result"
    }
   ],
   "source": [
    "sss = StratifiedShuffleSplit(n_splits=5, test_size=0.2, random_state=0)\n",
    "sss.get_n_splits(X, y)"
   ]
  },
  {
   "cell_type": "code",
   "execution_count": 89,
   "metadata": {},
   "outputs": [],
   "source": [
    "def spectral_clustering(training_data, k, spread, obj):\n",
    "    data_size = len(training_data)\n",
    "\n",
    "    # Gaussian Kernel\n",
    "    norm = squareform(pdist(training_data, 'euclidean'))\n",
    "    kernel = np.exp(-(norm ** 2)/(2*spread))\n",
    "\n",
    "    degree_matrix = np.sum(kernel, axis=0) * np.identity(data_size)\n",
    "    L = np.zeros((data_size, data_size))\n",
    "\n",
    "    if obj == 'ratio':\n",
    "        L = degree_matrix - kernel\n",
    "    elif obj == 'asymmetric':\n",
    "        L = np.dot(np.linalg.inv(degree_matrix), degree_matrix - kernel)\n",
    "    elif obj == 'symmetric':\n",
    "        degree_matrix = np.diag(np.sqrt(np.diag(degree_matrix)))\n",
    "        degree_matrix = np.linalg.inv(degree_matrix)\n",
    "        L = np.dot(np.dot(degree_matrix, degree_matrix - kernel), degree_matrix)\n",
    "    \n",
    "    _, eigh = np.linalg.eigh(L)\n",
    "    eigh = eigh[:, 0: k]\n",
    "    # eigh = np.fliplr(eigh)\n",
    "\n",
    "    norms = np.linalg.norm(eigh, ord=2, axis=1)\n",
    "    for i in range(len(norms)):\n",
    "        eigh[i] = eigh[i, :] / norms[i]\n",
    "\n",
    "    kmeans = KMeans(n_clusters = k).fit(eigh)\n",
    "\n",
    "    return kmeans.labels_\n",
    "\n",
    "\n",
    "def f_measure(clustering_labels, training_target, k):\n",
    "    training_target = list(np.int_(training_target))\n",
    "    table = np.zeros((k, max(training_target)+1) , dtype=int)\n",
    "    # accuracy table calculation\n",
    "    for target_index, prediction_index in zip(training_target, clustering_labels):\n",
    "        table[prediction_index][target_index] += 1\n",
    "    columnwise_sum = np.sum(table, axis=0, dtype=int)\n",
    "    rowwise_sum = np.sum(table, axis=1, dtype=int)\n",
    "    precision_vals = []\n",
    "    recall_vals = []\n",
    "    for i, row in enumerate(table):\n",
    "        precision_vals.append(max(row) / rowwise_sum[i])\n",
    "        x = row.tolist().index(max(row))\n",
    "        recall_vals.append(max(row) / columnwise_sum[x])\n",
    "    F_vals = []\n",
    "    for i in range(k):\n",
    "        F_vals.append((2 * precision_vals[i] * recall_vals[i]) / (precision_vals[i] + recall_vals[i]))\n",
    "    return np.mean(F_vals)\n",
    "\n",
    "def f_measure_with_correspondence(y_true, y_pred, k):\n",
    "    # calculate F1 score for each class\n",
    "    for c in range(k):\n",
    "        # calculate TP, FP, FN for class c\n",
    "        TP = sum([1 for i, j in zip(y_true, y_pred) if i == c and j == c])\n",
    "        FP = sum([1 for i, j in zip(y_true, y_pred) if i != c and j == c])\n",
    "        FN = sum([1 for i, j in zip(y_true, y_pred) if i == c and j != c])\n",
    "        \n",
    "    # calculate precision\n",
    "        precision = TP / (TP + FP)\n",
    "        \n",
    "        # calculate recall\n",
    "        recall = TP / (TP + FN)\n",
    "        \n",
    "        # calculate F1 score\n",
    "        f1 = 2 * (precision * recall) / (precision + recall)\n",
    "        \n",
    "        print('F1 score for class', c, ':', f1)\n",
    "        \n",
    "def num_of_each_cluster(clustering_labels, k):\n",
    "    count_each_cluster_size = np.zeros(k)\n",
    "    for l in range(k):\n",
    "        count = np.count_nonzero(clustering_labels == l)\n",
    "        count_each_cluster_size[l] = count\n",
    "\n",
    "    return count_each_cluster_size\n"
   ]
  },
  {
   "cell_type": "code",
   "execution_count": 42,
   "metadata": {},
   "outputs": [],
   "source": []
  },
  {
   "cell_type": "code",
   "execution_count": 95,
   "metadata": {},
   "outputs": [],
   "source": [
    "cluster_sizes = []\n",
    "selected_index = next(sss.split(X,y))[1]\n",
    "training_data = (X[selected_index])\n",
    "label = np.argmax(one_hot_encoding(y),axis = 1)[selected_index]\n",
    "pred = spectral_clustering(training_data, 11, 10, 'asymmetric')\n",
    "cluster_sizes.append(num_of_each_cluster(pred, 11))\n",
    "F = f_measure(pred, label, 11)"
   ]
  },
  {
   "cell_type": "code",
   "execution_count": 96,
   "metadata": {},
   "outputs": [
    {
     "data": {
      "text/plain": [
       "0.32270254399349985"
      ]
     },
     "execution_count": 96,
     "metadata": {},
     "output_type": "execute_result"
    }
   ],
   "source": [
    "F"
   ]
  },
  {
   "cell_type": "code",
   "execution_count": 97,
   "metadata": {},
   "outputs": [
    {
     "data": {
      "text/plain": [
       "array([273, 267, 178, 249, 199, 237, 260, 248, 243, 186, 266], dtype=int64)"
      ]
     },
     "execution_count": 97,
     "metadata": {},
     "output_type": "execute_result"
    }
   ],
   "source": [
    "cluster_sizes[0].astype(np.int0)"
   ]
  },
  {
   "cell_type": "code",
   "execution_count": 98,
   "metadata": {},
   "outputs": [
    {
     "name": "stderr",
     "output_type": "stream",
     "text": [
      "c:\\Users\\Micha\\anaconda3\\lib\\site-packages\\ipykernel_launcher.py:1: DeprecationWarning: Converting `np.integer` or `np.signedinteger` to a dtype is deprecated. The current result is `np.dtype(np.int_)` which is not strictly correct. Note that the result depends on the system. To ensure stable results use may want to use `np.int64` or `np.int32`.\n",
      "  \"\"\"Entry point for launching an IPython kernel.\n"
     ]
    },
    {
     "data": {
      "text/plain": [
       "0.26913569565330675"
      ]
     },
     "execution_count": 98,
     "metadata": {},
     "output_type": "execute_result"
    }
   ],
   "source": [
    "contigency_table = np.zeros((11,11),dtype = np.integer)\n",
    "for i in range(len(pred)):\n",
    "    contigency_table[label[i]][pred[i]] += 1\n",
    "col_sum = np.sum(contigency_table,axis = 0)\n",
    "row_sum = np.sum(contigency_table,axis = 1)\n",
    "H_T = -np.sum(col_sum/np.sum(col_sum)*np.log(col_sum/np.sum(col_sum)))\n",
    "H_C = -np.sum(row_sum/np.sum(row_sum)*np.log(row_sum/np.sum(row_sum)))\n",
    "I_CT = 0\n",
    "for i in range(11):\n",
    "    for j in range(11):\n",
    "        if (contigency_table[i][j] != 0):\n",
    "            I_CT += (contigency_table[i][j]/np.sum(row_sum))*np.log((contigency_table[i][j]*np.sum(row_sum))/((row_sum[i])*(col_sum[j])))\n",
    "NMI = I_CT/(np.sqrt(H_C*H_T))\n",
    "NMI"
   ]
  }
 ],
 "metadata": {
  "kernelspec": {
   "display_name": "Python 3.7.6 ('base')",
   "language": "python",
   "name": "python3"
  },
  "language_info": {
   "codemirror_mode": {
    "name": "ipython",
    "version": 3
   },
   "file_extension": ".py",
   "mimetype": "text/x-python",
   "name": "python",
   "nbconvert_exporter": "python",
   "pygments_lexer": "ipython3",
   "version": "3.7.6"
  },
  "orig_nbformat": 4,
  "vscode": {
   "interpreter": {
    "hash": "1583098d49b8b63b24ba78fec75676b625853923384d7c0eb5f87db36da8a08e"
   }
  }
 },
 "nbformat": 4,
 "nbformat_minor": 2
}
