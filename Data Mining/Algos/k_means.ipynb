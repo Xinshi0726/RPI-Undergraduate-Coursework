{
 "cells": [
  {
   "cell_type": "code",
   "execution_count": 1,
   "metadata": {},
   "outputs": [],
   "source": [
    "import numpy as np \n",
    "import pandas as pd\n",
    "import matplotlib.pyplot as plt\n",
    "from scipy.special import logsumexp\n",
    "import random\n",
    "import math\n",
    "from scipy.stats import multivariate_normal\n",
    "from sklearn.model_selection import StratifiedShuffleSplit\n",
    "from sklearn.preprocessing import MinMaxScaler\n",
    "from scipy.spatial.distance import pdist, squareform\n",
    "from sklearn.model_selection import StratifiedShuffleSplit\n",
    "from sklearn.cluster import KMeans"
   ]
  },
  {
   "cell_type": "code",
   "execution_count": 2,
   "metadata": {},
   "outputs": [
    {
     "name": "stderr",
     "output_type": "stream",
     "text": [
      "c:\\Users\\Micha\\anaconda3\\lib\\site-packages\\IPython\\core\\interactiveshell.py:3553: DtypeWarning: Columns (5,6) have mixed types.Specify dtype option on import or set low_memory=False.\n",
      "  exec(code_obj, self.user_global_ns, self.user_ns)\n"
     ]
    },
    {
     "data": {
      "text/plain": [
       "5"
      ]
     },
     "execution_count": 2,
     "metadata": {},
     "output_type": "execute_result"
    }
   ],
   "source": [
    "train = np.array(pd.read_csv('./codon_usage.csv'))\n",
    "# shuffle the dataset\n",
    "train = np.delete(train, (486,5063), axis=0)\n",
    "y = np.copy(train[:,0])\n",
    "X = np.delete(train,(0,1,2,3,4), axis=1)\n",
    "X = X.astype(np.float32)\n",
    "scaler = MinMaxScaler()\n",
    "scaler.fit(X)\n",
    "X = scaler.transform(X)\n",
    "sss = StratifiedShuffleSplit(n_splits=5, test_size=0.2, random_state=0)\n",
    "sss.get_n_splits(X, y)"
   ]
  },
  {
   "cell_type": "code",
   "execution_count": 3,
   "metadata": {},
   "outputs": [],
   "source": [
    "def gaussian_kernel(x, y, sigma=1):\n",
    "    return np.exp(-((x - y) ** 2) / (2 * (sigma ** 2)))\n",
    "\n",
    "def kmeans(X, k, max_iterations=100, sigma=1):\n",
    "    # Choose the cluster centers from the dataset\n",
    "    centers = X[np.random.choice(X.shape[0], size=k, replace=False)]\n",
    "\n",
    "    for _ in range(max_iterations):\n",
    "        # Calculate the distances between each point and the cluster centers\n",
    "        distances = np.sqrt(((X[:, np.newaxis, :] - centers[np.newaxis, :, :]) ** 2).sum(axis=2))\n",
    "\n",
    "        # Calculate the Gaussian kernel values\n",
    "        kernel_values = gaussian_kernel(distances, 0, sigma)\n",
    "\n",
    "        # Assign each point to the closest cluster center\n",
    "        clusters = np.argmax(kernel_values, axis=1)\n",
    "\n",
    "        # Calculate the new cluster centers\n",
    "        new_centers = np.array([X[clusters == c].mean(axis=0) for c in range(k)])\n",
    "\n",
    "        # Check for convergence\n",
    "        if np.allclose(centers, new_centers):\n",
    "            break\n",
    "\n",
    "        centers = new_centers\n",
    "\n",
    "    return clusters, centers\n"
   ]
  },
  {
   "cell_type": "code",
   "execution_count": 4,
   "metadata": {},
   "outputs": [],
   "source": [
    "def one_hot_encoding(data):\n",
    "    num_count = set()\n",
    "    for i in data:\n",
    "        num_count.add(i)\n",
    "    num_count = list(num_count)\n",
    "    data = np.copy(data)\n",
    "    zeros = np.zeros((data.shape[0],len(num_count)))\n",
    "    for i in range(data.shape[0]):\n",
    "        zeros[i,num_count.index(data[i])] = 1\n",
    "    return zeros"
   ]
  },
  {
   "cell_type": "code",
   "execution_count": 21,
   "metadata": {},
   "outputs": [],
   "source": [
    "selected_index = next(sss.split(X,y))[1]\n",
    "training_data = (X[selected_index])\n",
    "label = np.argmax(one_hot_encoding(y),axis = 1)[selected_index]\n",
    "pred = kmeans(training_data, 11, max_iterations=100, sigma=1)[0]"
   ]
  },
  {
   "cell_type": "code",
   "execution_count": 22,
   "metadata": {},
   "outputs": [
    {
     "name": "stderr",
     "output_type": "stream",
     "text": [
      "c:\\Users\\Micha\\anaconda3\\lib\\site-packages\\ipykernel_launcher.py:1: DeprecationWarning: Converting `np.integer` or `np.signedinteger` to a dtype is deprecated. The current result is `np.dtype(np.int_)` which is not strictly correct. Note that the result depends on the system. To ensure stable results use may want to use `np.int64` or `np.int32`.\n",
      "  \"\"\"Entry point for launching an IPython kernel.\n"
     ]
    },
    {
     "data": {
      "text/plain": [
       "0.36427316061230425"
      ]
     },
     "execution_count": 22,
     "metadata": {},
     "output_type": "execute_result"
    }
   ],
   "source": [
    "contigency_table = np.zeros((11,11),dtype = np.integer)\n",
    "for i in range(len(pred)):\n",
    "    contigency_table[label[i]][pred[i]] += 1\n",
    "col_sum = np.sum(contigency_table,axis = 0)\n",
    "row_sum = np.sum(contigency_table,axis = 1)\n",
    "H_T = -np.sum(col_sum/np.sum(col_sum)*np.log(col_sum/np.sum(col_sum)))\n",
    "H_C = -np.sum(row_sum/np.sum(row_sum)*np.log(row_sum/np.sum(row_sum)))\n",
    "I_CT = 0\n",
    "for i in range(11):\n",
    "    for j in range(11):\n",
    "        if (contigency_table[i][j] != 0):\n",
    "            I_CT += (contigency_table[i][j]/np.sum(row_sum))*np.log((contigency_table[i][j]*np.sum(row_sum))/((row_sum[i])*(col_sum[j])))\n",
    "NMI = I_CT/(np.sqrt(H_C*H_T))\n",
    "NMI"
   ]
  }
 ],
 "metadata": {
  "kernelspec": {
   "display_name": "Python 3.7.6 ('base')",
   "language": "python",
   "name": "python3"
  },
  "language_info": {
   "codemirror_mode": {
    "name": "ipython",
    "version": 3
   },
   "file_extension": ".py",
   "mimetype": "text/x-python",
   "name": "python",
   "nbconvert_exporter": "python",
   "pygments_lexer": "ipython3",
   "version": "3.7.6"
  },
  "orig_nbformat": 4,
  "vscode": {
   "interpreter": {
    "hash": "1583098d49b8b63b24ba78fec75676b625853923384d7c0eb5f87db36da8a08e"
   }
  }
 },
 "nbformat": 4,
 "nbformat_minor": 2
}
