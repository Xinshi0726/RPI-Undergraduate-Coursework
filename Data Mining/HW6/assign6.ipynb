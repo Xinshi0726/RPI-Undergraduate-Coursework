{
 "cells": [
  {
   "cell_type": "code",
   "execution_count": 1,
   "metadata": {},
   "outputs": [],
   "source": [
    "import numpy as np \n",
    "import pandas as pd\n",
    "import matplotlib.pyplot as plt\n",
    "from scipy.special import softmax"
   ]
  },
  {
   "cell_type": "code",
   "execution_count": 2,
   "metadata": {},
   "outputs": [],
   "source": [
    "test = np.array(pd.read_csv('./fashion-mnist_test.csv'))\n",
    "train = np.array(pd.read_csv('./fashion-mnist_train.csv'))\n",
    "# shuffle the dataset\n",
    "np.random.seed(42)\n",
    "np.random.shuffle(train)\n",
    "np.random.shuffle(test)\n",
    "X_train = train[:10000,1:]\n",
    "y_train = train[:10000,0]\n",
    "X_test = test[:5000,1:]\n",
    "y_test = test[:5000,0]\n",
    "X_train_reshape = X_train.reshape(10000, 28, 28, 1)\n",
    "X_test_reshape = X_test.reshape(5000, 28, 28, 1)"
   ]
  },
  {
   "cell_type": "markdown",
   "metadata": {},
   "source": [
    "## Let's perform some data visualization on the image"
   ]
  },
  {
   "cell_type": "code",
   "execution_count": 3,
   "metadata": {},
   "outputs": [
    {
     "data": {
      "image/png": "[encoded data removed]",
      "text/plain": [
       "<Figure size 1080x864 with 9 Axes>"
      ]
     },
     "metadata": {
      "needs_background": "light"
     },
     "output_type": "display_data"
    }
   ],
   "source": [
    "fig = plt.figure(figsize=(15,12))\n",
    "ax1 = plt.subplot(331)\n",
    "plt.imshow( X_train_reshape[0], cmap=\"binary\")\n",
    "plt.axis(\"off\")\n",
    "ax2 = plt.subplot(332)\n",
    "plt.imshow( X_train_reshape[1], cmap=\"binary\")\n",
    "plt.axis(\"off\")\n",
    "ax3 = plt.subplot(333)\n",
    "plt.imshow( X_train_reshape[2], cmap=\"binary\")\n",
    "plt.axis(\"off\")\n",
    "ax1 = plt.subplot(334)\n",
    "plt.imshow( X_train_reshape[3], cmap=\"binary\")\n",
    "plt.axis(\"off\")\n",
    "ax2 = plt.subplot(335)\n",
    "plt.imshow( X_train_reshape[4], cmap=\"binary\")\n",
    "plt.axis(\"off\")\n",
    "ax3 = plt.subplot(336)\n",
    "plt.imshow( X_train_reshape[5], cmap=\"binary\")\n",
    "plt.axis(\"off\")\n",
    "ax1 = plt.subplot(337)\n",
    "plt.imshow( X_train_reshape[6], cmap=\"binary\")\n",
    "plt.axis(\"off\")\n",
    "ax2 = plt.subplot(338)\n",
    "plt.imshow( X_train_reshape[7], cmap=\"binary\")\n",
    "plt.axis(\"off\")\n",
    "ax3 = plt.subplot(339)\n",
    "plt.imshow( X_train_reshape[8], cmap=\"binary\")\n",
    "plt.axis(\"off\")\n",
    "plt.show()"
   ]
  },
  {
   "cell_type": "code",
   "execution_count": 4,
   "metadata": {},
   "outputs": [],
   "source": [
    "def augment_by_one(data):\n",
    "    data = np.copy(data)\n",
    "    ones = np.ones(data.shape[0]).reshape(-1,1)\n",
    "    augmented_data = np.hstack((ones,data))\n",
    "    return augmented_data\n",
    "def one_hot_encoding(data):\n",
    "    num_count = set()\n",
    "    for i in data:\n",
    "        num_count.add(i)\n",
    "    data = np.copy(data)\n",
    "    zeros = np.zeros((data.shape[0],len(num_count)))\n",
    "    for i in range(data.shape[0]):\n",
    "        zeros[i,data[i]] = 1\n",
    "    return zeros"
   ]
  },
  {
   "cell_type": "code",
   "execution_count": 5,
   "metadata": {},
   "outputs": [],
   "source": [
    "X_train = augment_by_one(X_train)\n",
    "X_test = augment_by_one(X_test)\n",
    "y_train = one_hot_encoding(y_train)"
   ]
  },
  {
   "cell_type": "code",
   "execution_count": 6,
   "metadata": {},
   "outputs": [],
   "source": [
    "def multi_class_logistic_regression(eps,lr,max_iter,X,y,print_iter):\n",
    "    weights_prev = np.zeros((y.shape[1],X.shape[1]))\n",
    "    weights_next = np.copy(weights_prev)\n",
    "    l1_norm = np.Inf\n",
    "    t = 0\n",
    "    index = [i for i in range(X.shape[0])]\n",
    "    while l1_norm > eps and t<max_iter: \n",
    "        np.random.shuffle(index)\n",
    "        for k_index in index:\n",
    "            pi = softmax(np.dot(weights_next,X[k_index]))\n",
    "            for i in range(y.shape[1]-1):\n",
    "                grad = (y[k_index][i] - pi[i])*X[k_index]\n",
    "                weights_next[i] = weights_next[i]+lr*grad\n",
    "        t += 1\n",
    "        l1_norm = np.linalg.norm((weights_next - weights_prev))\n",
    "        if t%print_iter ==0:\n",
    "            print(f'iteration {t} with weight difference {l1_norm}')\n",
    "        weights_prev = np.copy(weights_next)\n",
    "    return weights_next"
   ]
  },
  {
   "cell_type": "code",
   "execution_count": 7,
   "metadata": {},
   "outputs": [],
   "source": [
    "def prediction(weight,X,y):\n",
    "    y_pred = np.zeros(y.shape)\n",
    "    for i in range(X.shape[0]):\n",
    "        y_pred[i] = np.argmax(softmax(weight@X[i]))\n",
    "    return y_pred"
   ]
  },
  {
   "cell_type": "code",
   "execution_count": 8,
   "metadata": {},
   "outputs": [],
   "source": [
    "def F1_Score(y_pred,y_test,classes):\n",
    "    F1 = list()\n",
    "    for i in range(classes):\n",
    "        gt_masks = y_test == i\n",
    "        pred_masks = y_pred == i\n",
    "        correct = np.logical_and(gt_masks,pred_masks) == True\n",
    "        precision = np.sum(correct)/np.sum(pred_masks)\n",
    "        recall = np.sum(correct)/np.sum(gt_masks)\n",
    "        F1.append((2*precision*recall)/(precision+recall)) \n",
    "    return np.mean(F1)"
   ]
  },
  {
   "cell_type": "code",
   "execution_count": 9,
   "metadata": {},
   "outputs": [
    {
     "name": "stdout",
     "output_type": "stream",
     "text": [
      "iteration 40 with weight difference 0.00025676152009283923\n",
      "iteration 80 with weight difference 0.0001592500233945391\n",
      "iteration 120 with weight difference 0.00018629358909356272\n",
      "iteration 160 with weight difference 0.00013467900458949633\n",
      "iteration 200 with weight difference 9.628960334741844e-05\n"
     ]
    }
   ],
   "source": [
    "weight = multi_class_logistic_regression(1e-4,2.5e-9,200,X_train,y_train,40)\n",
    "y_pred = prediction(weight,X_test,y_test)\n",
    "F1 = F1_Score(y_pred,y_test,y_train.shape[1])\n",
    "Accuracy = np.sum(y_pred == y_test)/y_test.shape[0]"
   ]
  },
  {
   "cell_type": "code",
   "execution_count": 10,
   "metadata": {},
   "outputs": [
    {
     "name": "stdout",
     "output_type": "stream",
     "text": [
      "The weight matrix is:\n",
      "[[ 5.36970421e-06 -3.91100622e-07 -1.79989214e-06 ... -1.46217371e-04\n",
      "  -9.34297122e-05 -1.05904580e-05]\n",
      " [-7.17555636e-06 -3.86626333e-09 -2.18885860e-07 ... -3.41759438e-05\n",
      "  -8.35540338e-06 -2.79971370e-06]\n",
      " [-3.47669859e-06 -5.66004537e-08  2.39182854e-06 ...  4.01655193e-04\n",
      "   1.45178021e-04  2.12632391e-06]\n",
      " ...\n",
      " [-3.51465160e-06 -1.43833666e-09 -2.47382550e-08 ... -2.26587628e-05\n",
      "  -9.47119983e-06 -2.99654396e-06]\n",
      " [-1.55212742e-05 -1.15712662e-06 -1.40042116e-07 ... -2.08252726e-04\n",
      "  -1.56464718e-04 -1.85142862e-05]\n",
      " [ 0.00000000e+00  0.00000000e+00  0.00000000e+00 ...  0.00000000e+00\n",
      "   0.00000000e+00  0.00000000e+00]]\n",
      "The accuracy is 0.8322 and the F1 score is 0.8298095391967444\n"
     ]
    }
   ],
   "source": [
    "print('The weight matrix is:')\n",
    "print(weight)\n",
    "print(f'The accuracy is {Accuracy} and the F1 score is {F1}')"
   ]
  }
 ],
 "metadata": {
  "kernelspec": {
   "display_name": "Python 3.7.6 ('base')",
   "language": "python",
   "name": "python3"
  },
  "language_info": {
   "codemirror_mode": {
    "name": "ipython",
    "version": 3
   },
   "file_extension": ".py",
   "mimetype": "text/x-python",
   "name": "python",
   "nbconvert_exporter": "python",
   "pygments_lexer": "ipython3",
   "version": "3.7.6"
  },
  "orig_nbformat": 4,
  "vscode": {
   "interpreter": {
    "hash": "1583098d49b8b63b24ba78fec75676b625853923384d7c0eb5f87db36da8a08e"
   }
  }
 },
 "nbformat": 4,
 "nbformat_minor": 2
}
