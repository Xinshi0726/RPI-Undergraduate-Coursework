{
 "cells": [
  {
   "cell_type": "markdown",
   "source": [
    "## Problem 1: find the gradient and Hessian"
   ],
   "metadata": {
    "collapsed": false
   }
  },
  {
   "cell_type": "markdown",
   "source": [
    "$f(\\omega') = \\frac{1}{n}\\sum_{i=1}^{n}\\log(1+exp(-y_i(\\omega_0+\\omega^Tx_i)))+\\lambda ||\\omega||_2^2$, where $\\omega' = [\\omega_0;\\omega]$ is the vertical concatenation of the bias and the feature coefficients.\n",
    "\n",
    "The gradient of the loss function with respect to $\\omega'$ can be computed as:\n",
    "\n",
    "$\\nabla f(\\omega') = \\begin{bmatrix} \\frac{\\partial f(\\omega')}{\\partial \\omega_0} \\\\ \\frac{\\partial f(\\omega')}{\\partial \\omega} \\end{bmatrix}$\n",
    "\n",
    "Where $\\frac{\\partial f(\\omega')}{\\partial \\omega_0}$ and $\\frac{\\partial f(\\omega')}{\\partial \\omega}$ can be computed as follows:\n",
    "\n",
    "$\\frac{\\partial f(\\omega')}{\\partial \\omega_0} = \\frac{1}{n} \\sum_{i=1}^{n} \\frac{-y_i\\exp(-y_i(\\omega_0+\\omega^T(x_i)))}{1+exp(-y_i(\\omega_0+\\omega^Tx_i))} = \\frac{1}{n} \\sum_{i=1}^{n} \\frac{-y_i}{1 + \\exp(y_i(\\omega_0 + \\omega^T x_i))}$ <br>\n",
    "\n",
    "$\\frac{\\partial f(\\omega')}{\\partial \\omega} = \\frac{1}{n} \\sum_{i=1}^{n} \\frac{-y_ix_i\\exp(-y_i(\\omega_0+\\omega^Tx_i))}{1+exp(-y_i(\\omega_0+\\omega^Tx_i))} = \\frac{1}{n} \\sum_{i=1}^{n} \\frac{-y_i x_i}{1 + \\exp(y_i(\\omega_0 + \\omega^T x_i))} + 2\\lambda \\omega$ <br>\n",
    "\n",
    "Therefore, the gradient of the loss function with respect to $\\omega'$ is:\n",
    "\n",
    "$\\nabla f(\\omega') = \\begin{bmatrix} \\frac{1}{n} \\sum_{i=1}^{n} \\frac{-y_i}{1 + \\exp(y_i(\\omega_0 + \\omega^T x_i))} \\\\ \\frac{1}{n} \\sum_{i=1}^{n} \\frac{-y_i x_i}{1 + \\exp(y_i(\\omega_0 + \\omega^T x_i))} + 2\\lambda \\omega \\end{bmatrix}$\n",
    "\n",
    "To compute the Hessian matrix, we need to find the following partial derivatives:\\\\\n",
    "\n",
    "$\\nabla^2 f(\\omega') = \\begin{bmatrix} \\frac{\\partial^2 f(\\omega')}{\\partial \\omega_0^2} & \\frac{\\partial^2 f(\\omega')}{\\partial \\omega_0 \\partial \\omega} \\\\ \\frac{\\partial^2 f(\\omega')}{\\partial \\omega \\partial \\omega_0} & \\frac{\\partial^2 f(\\omega')}{\\partial \\omega^2} \\end{bmatrix}$\n",
    "\n",
    "Where $\\frac{\\partial^2 f(\\omega')}{\\partial \\omega_0^2}$, $\\frac{\\partial^2 f(\\omega')}{\\partial \\omega_0 \\partial \\omega}$, $\\frac{\\partial^2 f(\\omega')}{\\partial \\omega \\partial \\omega_0}$, and $\\frac{\\partial^2 f(\\omega')}{\\partial \\omega^2}$ can be computed as follows:\n",
    "\n",
    "$\\frac{\\partial^2 f(\\omega')}{\\partial \\omega_0^2} = \\frac{1}{n} \\sum_{i=1}^{n} \\frac{ y_i^2 \\exp(y_i(\\omega_0 + \\omega^T x_i))}{(1 + \\exp(y_i(\\omega_0 + \\omega^T x_i)))^2}$ <br>\n",
    "\n",
    "\n",
    "$\\frac{\\partial^2 f(\\omega')}{\\partial \\omega_0 \\partial \\omega} = \\frac{\\partial^2 f(\\omega')}{\\partial \\omega \\partial \\omega_0} =  \\frac{1}{n} \\sum_{i=1}^{n} \\frac{ y_ix_i \\exp(y_i(\\omega_0 + \\omega^T x_i))}{(1 + \\exp(y_i(\\omega_0 + \\omega^T x_i)))^2}$ <br>\n",
    "\n",
    "$\\frac{\\partial^2 f(\\omega')}{\\partial \\omega^2} =\\frac{1}{n} \\sum_{i=1}^{n} \\frac{ y_i^2x_ix_i^T   \\exp(y_i(\\omega_0 + \\omega^T x_i))}{(1 + \\exp(y_i(\\omega_0 + \\omega^T x_i)))^2} + 2\\lambda$ <br>\n",
    "\n",
    "Therefore, the Hessian matrix of the loss function with respect to $\\omega'$ is (There is a transpose on x in the second element because the hessian matrix is a square matrix):\n",
    "\n",
    "$\\nabla^2 f(\\omega') = \\begin{bmatrix} \\frac{1}{n} \\sum_{i=1}^{n} \\frac{y_i^2 \\exp(y_i(\\omega_0 + \\omega^T x_i))}{(1 + \\exp(y_i(\\omega_0 + \\omega^T x_i)))^2} & \\frac{1}{n} \\sum_{i=1}^{n} \\frac{ y_i^2x_i^T \\exp(y_i(\\omega_0 + \\omega^T x_i))}{(1 + \\exp(y_i(\\omega_0 + \\omega^T x_i)))^2} \\\\ \\frac{1}{n} \\sum_{i=1}^{n} \\frac{ y_i^2x_i \\exp(y_i(\\omega_0 + \\omega^T x_i))}{(1 + \\exp(y_i(\\omega_0 + \\omega^T x_i)))^2} & \\frac{1}{n} \\sum_{i=1}^{n} \\frac{ y_i^2x_ix_i^T   \\exp(y_i(\\omega_0 + \\omega^T x_i))}{(1 + \\exp(y_i(\\omega_0 + \\omega^T x_i)))^2} + 2\\lambda \\end{bmatrix}$"
   ],
   "metadata": {
    "collapsed": false
   }
  },
  {
   "cell_type": "markdown",
   "source": [
    "## Problem 2: Argue the Logistic Regression is an convex optimization problem"
   ],
   "metadata": {
    "collapsed": false
   }
  },
  {
   "cell_type": "markdown",
   "source": [
    "To argue the logistic regression optimization problem is a convex optimization problem, we can rewrite the hessian matrix as $\\frac{1}{n} \\sum_{i=1}^n \\frac{y_i^2 \\exp(y_i(\\omega_0 + \\omega^T x_i))}{(1 + \\exp(y_i(\\omega_0 + \\omega^T x_i)))^2} \\begin{bmatrix}\n",
    "    1 & x_i^T\\\\\n",
    "    x_i & x_ix_i^T\n",
    "\\end{bmatrix}+ 2\\lambda  \\begin{bmatrix}\n",
    "    0 & 0 & \\dots & 0 \\\\\n",
    "    0 & 1 & \\dots & 0 \\\\\n",
    "    \\vdots & \\vdots & \\ddots & \\vdots \\\\\n",
    "    0 & 0 & \\dots & 1\n",
    "  \\end{bmatrix}$. Let $A = \\begin{bmatrix}\n",
    "    1 \\\\ x_i\n",
    "\\end{bmatrix}$, we can easily decompose $\\begin{bmatrix}\n",
    "    1 & x_i^T\\\\\n",
    "    x_i & x_ix_i^T\n",
    "\\end{bmatrix}$ since $AA^T = \\begin{bmatrix}\n",
    "        1 \\\\ x_i\n",
    "\\end{bmatrix} \\begin{bmatrix}\n",
    "        1 & x_i^T\n",
    "\\end{bmatrix}$. By multiplying A with the square root of\n",
    "$\\frac{1}{n}\\frac{y_i^2 \\exp(y_i(\\omega_0 + \\omega^T x_i))}{(1 + \\exp(y_i(\\omega_0 + \\omega^T x_i)))^2}$, we know $\\frac{1}{n} \\frac{y_i^2 \\exp(y_i(\\omega_0 + \\omega^T x_i))}{(1 + \\exp(y_i(\\omega_0 + \\omega^T x_i)))^2} \\begin{bmatrix}\n",
    "    1 & x_i^T\\\\\n",
    "    x_i & x_ix_i^T\n",
    "\\end{bmatrix}$ is positive semi-definite. Since the sum of PSD matrix is PSD, we have $\\frac{1}{n} \\sum_{i=1}^n \\frac{y_i^2 \\exp(y_i(\\omega_0 + \\omega^T x_i))}{(1 + \\exp(y_i(\\omega_0 + \\omega^T x_i)))^2} \\begin{bmatrix}\n",
    "    1 & x_i^T\\\\\n",
    "    x_i & x_ix_i^T\n",
    "\\end{bmatrix}$ as a PSD matrix. Since $2\\lambda  \\begin{bmatrix}\n",
    "    0 & 0 & \\dots & 0 \\\\\n",
    "    0 & 1 & \\dots & 0 \\\\\n",
    "    \\vdots & \\vdots & \\ddots & \\vdots \\\\\n",
    "    0 & 0 & \\dots & 1\n",
    "  \\end{bmatrix}$ is a diagonal matrix and has all of its values positive, it is also a positive semi-definite matrix. Since the sum of positive semi-definite matrices are positive semi-definte, $\\frac{1}{n} \\sum_{i=1}^n \\frac{y_i^2 \\exp(y_i(\\omega_0 + \\omega^T x_i))}{(1 + \\exp(y_i(\\omega_0 + \\omega^T x_i)))^2} \\begin{bmatrix}\n",
    "    1 & x_i^T\\\\\n",
    "    x_i & x_ix_i^T\n",
    "\\end{bmatrix}+ 2\\lambda  \\begin{bmatrix}\n",
    "    0 & 0 & \\dots & 0 \\\\\n",
    "    0 & 1 & \\dots & 0 \\\\\n",
    "    \\vdots & \\vdots & \\ddots & \\vdots \\\\\n",
    "    0 & 0 & \\dots & 1\n",
    "  \\end{bmatrix}$ is a positive semi-definite matrix. Since the hessian is PSD, we can conclude the logistic regression optimization problem is convex."
   ],
   "metadata": {
    "collapsed": false
   }
  },
  {
   "cell_type": "code",
   "execution_count": 2,
   "outputs": [],
   "source": [
    "from sklearn.preprocessing import StandardScaler\n",
    "from utils import mnist_reader\n",
    "import numpy as np\n",
    "from utils import helper\n",
    "import matplotlib.pyplot as plt\n",
    "from sklearn.linear_model import LogisticRegression\n",
    "from sklearn.metrics import top_k_accuracy_score,confusion_matrix"
   ],
   "metadata": {
    "collapsed": false
   }
  },
  {
   "cell_type": "code",
   "execution_count": 3,
   "outputs": [],
   "source": [
    "X_train, y_train = mnist_reader.load_mnist('data/fashion', kind='train')\n",
    "X_test, y_test = mnist_reader.load_mnist('data/fashion', kind='t10k')"
   ],
   "metadata": {
    "collapsed": false
   }
  },
  {
   "cell_type": "code",
   "execution_count": 4,
   "outputs": [],
   "source": [
    "scaler = StandardScaler().fit(X_train)\n",
    "X_train_scaled = scaler.transform(X_train)\n",
    "X_test_scaled = scaler.transform(X_test)"
   ],
   "metadata": {
    "collapsed": false
   }
  },
  {
   "cell_type": "code",
   "execution_count": 5,
   "outputs": [
    {
     "data": {
      "text/plain": "<Figure size 640x480 with 10 Axes>",
      "image/png": "[encoded data removed]"
     },
     "metadata": {},
     "output_type": "display_data"
    }
   ],
   "source": [
    "counter = 0\n",
    "fig, axs = plt.subplots(2, 5)\n",
    "for i in range(2):\n",
    "    for j in range(5):\n",
    "        axs[i, j].imshow(helper.get_sprite_image(X_train[y_train==counter][0]))\n",
    "        axs[i,j].set_title(f'class {counter}')\n",
    "        counter += 1"
   ],
   "metadata": {
    "collapsed": false
   }
  },
  {
   "cell_type": "code",
   "execution_count": 6,
   "outputs": [
    {
     "name": "stderr",
     "output_type": "stream",
     "text": [
      "/Users/xinshiwang/opt/anaconda3/lib/python3.9/site-packages/sklearn/linear_model/_sag.py:352: ConvergenceWarning: The max_iter was reached which means the coef_ did not converge\n",
      "  warnings.warn(\n"
     ]
    }
   ],
   "source": [
    "clf = LogisticRegression(random_state=42, solver='saga',tol=1e-6).fit(X_train,y_train)"
   ],
   "metadata": {
    "collapsed": false
   }
  },
  {
   "cell_type": "code",
   "execution_count": 7,
   "outputs": [],
   "source": [
    "y_train_pred_prob = clf.predict_proba(X_train)\n",
    "y_train_pred = clf.predict(X_train)"
   ],
   "metadata": {
    "collapsed": false
   }
  },
  {
   "cell_type": "code",
   "execution_count": 9,
   "outputs": [],
   "source": [
    "train_top1 = top_k_accuracy_score(y_train,y_train_pred_prob,k = 1)\n",
    "train_top5 = top_k_accuracy_score(y_train,y_train_pred_prob,k = 5)\n",
    "train_confusion_mat = confusion_matrix(y_train, y_train_pred)"
   ],
   "metadata": {
    "collapsed": false
   }
  },
  {
   "cell_type": "code",
   "execution_count": 10,
   "outputs": [
    {
     "name": "stdout",
     "output_type": "stream",
     "text": [
      "The top1 accuracy for train set is 0.8761666666666666\n",
      "The top5 accuracy for train set is 0.9973333333333333\n",
      "The confusion matrix for the training set is:\n",
      "[[5098   23   97  213   39    4  468    1   55    2]\n",
      " [  10 5864   15   88    9    1   11    0    2    0]\n",
      " [  75   13 4676   49  709    1  442    0   35    0]\n",
      " [ 177   60   49 5379  186    0  130    0   19    0]\n",
      " [  16    7  460  161 4921    0  418    0   16    1]\n",
      " [   2    2    0    0    0 5615    2  236   23  120]\n",
      " [ 762   23  631  163  571    0 3769    0   79    2]\n",
      " [   0    0    0    0    0  133    0 5692   12  163]\n",
      " [  16    2   20   24   20   15   79   19 5800    5]\n",
      " [   0    1    0    1    0   60    1  175    6 5756]]\n"
     ]
    }
   ],
   "source": [
    "print(f'The top1 accuracy for train set is {train_top1}')\n",
    "print(f'The top5 accuracy for train set is {train_top5}')\n",
    "print('The confusion matrix for the training set is:')\n",
    "print(train_confusion_mat)"
   ],
   "metadata": {
    "collapsed": false
   }
  },
  {
   "cell_type": "code",
   "execution_count": 11,
   "outputs": [],
   "source": [
    "y_test_pred_prob = clf.predict_proba(X_test)\n",
    "y_test_pred = clf.predict(X_test)"
   ],
   "metadata": {
    "collapsed": false
   }
  },
  {
   "cell_type": "code",
   "execution_count": 12,
   "outputs": [],
   "source": [
    "test_top1 = top_k_accuracy_score(y_test,y_test_pred_prob,k = 1)\n",
    "test_top5 = top_k_accuracy_score(y_test,y_test_pred_prob,k = 5)\n",
    "test_confusion_mat = confusion_matrix(y_test, y_test_pred)"
   ],
   "metadata": {
    "collapsed": false
   }
  },
  {
   "cell_type": "code",
   "execution_count": 13,
   "outputs": [
    {
     "name": "stdout",
     "output_type": "stream",
     "text": [
      "The top1 accuracy for test set is 0.8412\n",
      "The top5 accuracy for test set is 0.9954\n",
      "The confusion matrix for the testing set is:\n",
      "[[797   7  12  52   7   0 113   0  12   0]\n",
      " [  3 959   3  27   3   0   3   0   2   0]\n",
      " [ 25   6 734  10 134   1  77   1  12   0]\n",
      " [ 23  21  19 853  37   0  38   0   9   0]\n",
      " [  1   1 107  34 778   0  72   0   7   0]\n",
      " [  0   0   0   1   0 906   0  49   7  37]\n",
      " [139   1 119  38 121   0 561   0  21   0]\n",
      " [  0   0   0   0   0  33   0 938   0  29]\n",
      " [  8   1  11  13   3   3  17   6 938   0]\n",
      " [  0   1   0   0   0  13   1  37   0 948]]\n"
     ]
    }
   ],
   "source": [
    "print(f'The top1 accuracy for test set is {test_top1}')\n",
    "print(f'The top5 accuracy for test set is {test_top5}')\n",
    "print('The confusion matrix for the testing set is:')\n",
    "print(test_confusion_mat)"
   ],
   "metadata": {
    "collapsed": false
   }
  },
  {
   "cell_type": "code",
   "execution_count": 14,
   "outputs": [
    {
     "data": {
      "text/plain": "array([199,  38, 271, 175, 305,  50, 321,  93,  70,  66])"
     },
     "execution_count": 14,
     "metadata": {},
     "output_type": "execute_result"
    }
   ],
   "source": [
    "np.sum(test_confusion_mat,axis=0)-np.diag(test_confusion_mat)"
   ],
   "metadata": {
    "collapsed": false
   }
  },
  {
   "cell_type": "markdown",
   "source": [
    "The multinomial regression model performs exceptionally well (with the diagonal value > 900) on class 1, 5,7,8,9 (index starts from 0). The model performs poorly on class 6; it misclassified class 6 (Shirt/top) as class 0(T-shirt/top) most frequently. By subtracting the column sum with the diagonal of the confusion matrix, we found that misclassified samples are mostly classified as class 6, class 4. and class 2 as there are similar item in the dataset."
   ],
   "metadata": {
    "collapsed": false
   }
  },
  {
   "cell_type": "code",
   "execution_count": 32,
   "outputs": [
    {
     "data": {
      "text/plain": "<Figure size 640x480 with 1 Axes>",
      "image/png": "[encoded data removed]"
     },
     "metadata": {},
     "output_type": "display_data"
    }
   ],
   "source": [
    "misclassified_index = np.where(y_test_pred != y_test)[0][0]\n",
    "plt.imshow(helper.get_sprite_image(X_test[misclassified_index]))\n",
    "plt.title(f'Prediction: class {y_test_pred[misclassified_index]} GroundTruth: class{y_test[misclassified_index]}')\n",
    "plt.show()"
   ],
   "metadata": {
    "collapsed": false
   }
  },
  {
   "cell_type": "code",
   "execution_count": null,
   "outputs": [],
   "source": [],
   "metadata": {
    "collapsed": false
   }
  }
 ],
 "metadata": {
  "kernelspec": {
   "display_name": "Python 3",
   "language": "python",
   "name": "python3"
  },
  "language_info": {
   "codemirror_mode": {
    "name": "ipython",
    "version": 2
   },
   "file_extension": ".py",
   "mimetype": "text/x-python",
   "name": "python",
   "nbconvert_exporter": "python",
   "pygments_lexer": "ipython2",
   "version": "2.7.6"
  }
 },
 "nbformat": 4,
 "nbformat_minor": 0
}
