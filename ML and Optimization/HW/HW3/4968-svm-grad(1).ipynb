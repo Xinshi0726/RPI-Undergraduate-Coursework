{
 "cells": [
  {
   "cell_type": "markdown",
   "source": [
    "<h1 style=\"text-align: center;\">CSCI 4968: Homework 3</h1>"
   ],
   "metadata": {
    "collapsed": false
   }
  },
  {
   "cell_type": "markdown",
   "source": [
    "<h2 style=\"text-align: center;\">Question 1</h2>\n",
    "\n",
    "$$\\partial f(w,b) = \\frac{1}{n}\\sum_{i=1}^{n}\\partial (1-y_i(w^Tx_i+b))_+ + \\frac{\\lambda}{2} \\partial ||w||$$\n",
    "\n",
    "We first find the sub-differential of $f(w,b)$ w.r.t. $w$ by apply affine transformation rule:\n",
    "\n",
    "Let $h_i(w,b) = (1-y_i(w^Tx_i+b))_+ = (1-y_iw^Tx_i-y_ib)_+$, then we could apply the affine transformation rule to $h_i(w,b)$:\n",
    "\n",
    "\\begin{align*}\n",
    "\\partial h_i(w,b) &= -y_ix_i \\cdot \\partial p(z) |_{z=1-y_iw^Tx_i-y_ib} \\text{ where } p(z) = z_+ = max(0,z).\\\\\n",
    "&= -y_ix_i \\cdot\n",
    "\\begin{cases}\n",
    "    0 & 1-y_iw^Tx_i-y_ib < 0\\\\\n",
    "    1 & 1-y_iw^Tx_i-y_ib > 0\\\\\n",
    "    [0,1] & 1-y_iw^Tx_i-y_ib = 0\\\\\n",
    "\\end{cases}\\\\\n",
    "\\end{align*}\n",
    "\n",
    "and we know $\\frac{\\lambda}{2}\\partial_w ||w||^2_2 = \\lambda w$\n",
    "\n",
    "Thus, we have:$$\\partial_w f = \\frac{1}{n} \\sum^n_{i=1} -y_ix_i \\cdot\n",
    "\\begin{cases}\n",
    "    0 & 1-y_iw^Tx_i-y_ib < 0\\\\\n",
    "    1 & 1-y_iw^Tx_i-y_ib > 0\\\\\n",
    "    [0,1] & 1-y_iw^Tx_i-y_ib = 0\\\\\n",
    "\\end{cases} + \\lambda w$$\n",
    "\n",
    "Next, we find the sub-differential of $f(w,b)$ w.r.t. $b$ by apply affine transformation rule:\n",
    "\n",
    "Let $g_i(w,b) = (1-y_i(w^Tx_i+b))_+ = (1-y_iw^Tx_i-y_ib)_+$, then we could apply the affine transformation rule to $g_i(w,b)$:\n",
    "\n",
    "\\begin{align*}\n",
    "\\partial g_i(w,b) &= -y_i \\cdot \\partial p(z) |_{z=1-y_iw^Tx_i-y_ib} \\text{ where } p(z) = z_+ = max(0,z).\\\\\n",
    "&= -y_i \\cdot\n",
    "\\begin{cases}\n",
    "    0 & 1-y_iw^Tx_i-y_ib < 0\\\\\n",
    "    1 & 1-y_iw^Tx_i-y_ib > 0\\\\\n",
    "    [0,1] & 1-y_iw^Tx_i-y_ib = 0\\\\\n",
    "\\end{cases}\\\\\n",
    "\\end{align*}\n",
    "\n",
    "and we know $\\frac{\\lambda}{2}\\partial_b ||w||^2_2 = 0$\n",
    "\n",
    "Thus, we have:$$\\partial_b f = \\frac{1}{n} \\sum^n_{i=1} -y_i \\cdot\n",
    "\\begin{cases}\n",
    "    0 & 1-y_iw^Tx_i-y_ib < 0\\\\\n",
    "    1 & 1-y_iw^Tx_i-y_ib > 0\\\\\n",
    "    [0,1] & 1-y_iw^Tx_i-y_ib = 0\\\\\n",
    "\\end{cases}$$\n"
   ],
   "metadata": {
    "collapsed": false
   }
  },
  {
   "cell_type": "code",
   "execution_count": 7,
   "outputs": [],
   "source": [
    "from sklearn import datasets\n",
    "from sklearn.preprocessing import StandardScaler\n",
    "import numpy as np\n",
    "from tqdm import tqdm\n",
    "import matplotlib.pyplot as plt\n",
    "# %load_ext autotime"
   ],
   "metadata": {
    "collapsed": false
   }
  },
  {
   "cell_type": "code",
   "execution_count": 8,
   "metadata": {
    "collapsed": true
   },
   "outputs": [],
   "source": [
    "# ----------------------------------------- implementing SGD -------------------------------------\n",
    "def subgradloss(x, y, w):\n",
    "    \"\"\"\n",
    "    subgradloss calculates the subgradient on the loss function\n",
    "    :param x: feature vector (dim = d)\n",
    "    :param y: target label (dim = 1)\n",
    "    :param w: weights w = (w, b) (dim = d+1)\n",
    "    :return: subgradient on the loss function subgrad_w, concatenate with subgrad_b\n",
    "    \"\"\"\n",
    "    w0 = np.array(w[:-1])\n",
    "    b = w[-1]\n",
    "    cond = 1 - y*w0.dot(x) - y*b\n",
    "\n",
    "    if cond <= 0:\n",
    "        grad_w = 0\n",
    "        grad_b = 0\n",
    "    else:\n",
    "        grad_w = -y*x\n",
    "        grad_b = -y\n",
    "\n",
    "    return np.concatenate((np.full(w0.shape[0], grad_w), np.array([grad_b])))\n",
    "\n",
    "\n",
    "def subgradreg(regparam, w):\n",
    "    return regparam * w\n",
    "\n",
    "# implement a stochastic subgradient descent solver function:\n",
    "def sgdmethod(X, y, subgradloss, subgradreg, regparam, w1, T, a, m):\n",
    "    w = w1.copy()\n",
    "    omega = [w] # history of sgd\n",
    "    n, d = X.shape\n",
    "\n",
    "    for t in tqdm(range(T)):\n",
    "        # Sample m training examples without replacement\n",
    "        indices = np.random.choice(n, m, replace=False)\n",
    "        X_batch, y_batch = X[indices], y[indices]\n",
    "        g_t = np.mean([subgradloss(X_batch[i], y_batch[i], w) for i in range(m)], axis=0)\n",
    "\n",
    "        alpha_t = (1+a*t)**-1 # step size (dependent on t)\n",
    "        w_next = omega[t][:-1] - alpha_t*(g_t[:-1] + subgradreg(regparam, omega[t][:-1])) # update w\n",
    "        b_next = omega[t][-1] - alpha_t*g_t[-1] # update b\n",
    "        omega.append(np.concatenate((w_next, np.array([b_next])))) # update history\n",
    "\n",
    "    return omega"
   ]
  },
  {
   "cell_type": "code",
   "execution_count": 9,
   "outputs": [],
   "source": [
    "# ----------------------------------------- load data --------------------------------------------\n",
    "X_train, y_train = datasets.load_svmlight_file(\"a9a\")\n",
    "X_train, y_train = np.asarray(X_train.todense()), np.asarray(y_train)\n",
    "# remove the last column of x_train\n",
    "X_train = X_train[:, :-1]\n",
    "X_test, y_test = datasets.load_svmlight_file(\"a9a.t\")\n",
    "X_test, y_test = np.asarray(X_test.todense()), np.asarray(y_test)\n",
    "\n",
    "# Create a scaler object and fit it to the training data\n",
    "scaler = StandardScaler()\n",
    "scaler.fit(X_train)\n",
    "\n",
    "# Scale the training features\n",
    "X_train = scaler.transform(X_train)\n",
    "X_test = scaler.transform(X_test)\n",
    "n_train, d_train = X_train.shape"
   ],
   "metadata": {
    "collapsed": false
   }
  },
  {
   "cell_type": "code",
   "execution_count": 10,
   "outputs": [
    {
     "name": "stderr",
     "output_type": "stream",
     "text": [
      "100%|██████████| 45/45 [00:12<00:00,  3.65it/s]\n"
     ]
    }
   ],
   "source": [
    "# ----------------------------------- sgd with train data ----------------------------------------\n",
    "np.warnings.filterwarnings('ignore', category=np.VisibleDeprecationWarning)\n",
    "lambda_const = 1/n_train\n",
    "a_sgd = 0.314 # step size = pi/10 because I did this on March 14th\n",
    "wi = np.ones(d_train+1)\n",
    "# sgd (mini_batch sgd with batch_size = n_train)\n",
    "sgd_out = sgdmethod(X_train, y_train, subgradloss, subgradreg, lambda_const, wi, 45, a_sgd, n_train)"
   ],
   "metadata": {
    "collapsed": false
   }
  },
  {
   "cell_type": "code",
   "execution_count": 11,
   "outputs": [
    {
     "name": "stderr",
     "output_type": "stream",
     "text": [
      "100%|██████████| 46/46 [00:02<00:00, 18.49it/s]\n"
     ]
    },
    {
     "data": {
      "text/plain": "[<matplotlib.lines.Line2D at 0x7fe6a122c0d0>]"
     },
     "execution_count": 11,
     "metadata": {},
     "output_type": "execute_result"
    },
    {
     "data": {
      "text/plain": "<Figure size 640x480 with 1 Axes>",
      "image/png": "[encoded data removed]"
     },
     "metadata": {},
     "output_type": "display_data"
    }
   ],
   "source": [
    "obj_hist_sgd = []\n",
    "\n",
    "def objectiveEval(w, X, y, lambda_const):\n",
    "    sum = 0\n",
    "    for i in range(len(y)):\n",
    "        temp = 1 - y[i] * (w[:-1].dot(X[i]) + w[-1])\n",
    "        sum += max(0, temp)\n",
    "    return sum / len(y) + (lambda_const / 2) * np.linalg.norm(w[:-1], ord=2) ** 2\n",
    "\n",
    "\n",
    "for i in tqdm(range(len(sgd_out))):\n",
    "    obj_hist_sgd.append(objectiveEval(sgd_out[i], X_train, y_train, lambda_const))\n",
    "\n",
    "plt.plot(obj_hist_sgd)"
   ],
   "metadata": {
    "collapsed": false
   }
  },
  {
   "cell_type": "code",
   "execution_count": 12,
   "outputs": [],
   "source": [
    "# # ----------------------------------- sgd with batch size 1 ----------------------------------------\n",
    "# lambda_const = 1/n_train\n",
    "# a_minibatch_sgd = 0.0001\n",
    "# wi = np.ones(d_train+1)\n",
    "# # sgd (mini_batch sgd with batch_size = n_train)\n",
    "# minibatch_sgd_out = sgdmethod(X_train, y_train, subgradloss, subgradreg, lambda_const, wi, 300, a_sgd, 1)\n",
    "#\n",
    "# obj_hist_minibatch_sgd = []\n",
    "# for i in tqdm(range(len(minibatch_sgd_out))):\n",
    "#     w = minibatch_sgd_out[i]\n",
    "#     w0 = np.reshape(np.array(w[:-1]), (122, 1))\n",
    "#     b = w[-1]\n",
    "#     obj_hist_minibatch_sgd.append(np.mean([np.maximum(1-y_train[i]*(X_train[i]*w0+b), 0) for i in range(len(y_train))]) + lambda_const/2*np.linalg.norm(w0)**2)\n",
    "#\n",
    "# plt.plot(obj_hist_sgd)"
   ],
   "metadata": {
    "collapsed": false
   }
  }
 ],
 "metadata": {
  "kernelspec": {
   "display_name": "Python 3",
   "language": "python",
   "name": "python3"
  },
  "language_info": {
   "codemirror_mode": {
    "name": "ipython",
    "version": 2
   },
   "file_extension": ".py",
   "mimetype": "text/x-python",
   "name": "python",
   "nbconvert_exporter": "python",
   "pygments_lexer": "ipython2",
   "version": "2.7.6"
  }
 },
 "nbformat": 4,
 "nbformat_minor": 0
}
